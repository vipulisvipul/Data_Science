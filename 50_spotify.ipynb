{
 "cells": [
  {
   "cell_type": "code",
   "execution_count": 171,
   "metadata": {},
   "outputs": [],
   "source": [
    "import pandas as pd\n",
    "import numpy as np\n",
    "from matplotlib import pyplot as plt\n",
    "from scipy import stats\n",
    "import seaborn as sns\n",
    "from sklearn.linear_model import LinearRegression \n",
    "from sklearn.preprocessing import StandardScaler\n",
    "from sklearn.model_selection import train_test_split\n",
    "from sklearn.metrics import mean_squared_error\n",
    "from sklearn.metrics import r2_score\n",
    "from sklearn.svm import LinearSVC, SVC\n",
    "from sklearn.naive_bayes import GaussianNB, MultinomialNB,BernoulliNB"
   ]
  },
  {
   "cell_type": "code",
   "execution_count": 152,
   "metadata": {},
   "outputs": [
    {
     "data": {
      "text/html": [
       "<div>\n",
       "<style scoped>\n",
       "    .dataframe tbody tr th:only-of-type {\n",
       "        vertical-align: middle;\n",
       "    }\n",
       "\n",
       "    .dataframe tbody tr th {\n",
       "        vertical-align: top;\n",
       "    }\n",
       "\n",
       "    .dataframe thead th {\n",
       "        text-align: right;\n",
       "    }\n",
       "</style>\n",
       "<table border=\"1\" class=\"dataframe\">\n",
       "  <thead>\n",
       "    <tr style=\"text-align: right;\">\n",
       "      <th></th>\n",
       "      <th>Unnamed: 0</th>\n",
       "      <th>Track.Name</th>\n",
       "      <th>Artist.Name</th>\n",
       "      <th>Genre</th>\n",
       "      <th>Beats.Per.Minute</th>\n",
       "      <th>Energy</th>\n",
       "      <th>Danceability</th>\n",
       "      <th>Loudness..dB..</th>\n",
       "      <th>Liveness</th>\n",
       "      <th>Valence.</th>\n",
       "      <th>Length.</th>\n",
       "      <th>Acousticness..</th>\n",
       "      <th>Speechiness.</th>\n",
       "      <th>Popularity</th>\n",
       "    </tr>\n",
       "  </thead>\n",
       "  <tbody>\n",
       "    <tr>\n",
       "      <th>0</th>\n",
       "      <td>1</td>\n",
       "      <td>Señorita</td>\n",
       "      <td>Shawn Mendes</td>\n",
       "      <td>canadian pop</td>\n",
       "      <td>117</td>\n",
       "      <td>55</td>\n",
       "      <td>76</td>\n",
       "      <td>-6</td>\n",
       "      <td>8</td>\n",
       "      <td>75</td>\n",
       "      <td>191</td>\n",
       "      <td>4</td>\n",
       "      <td>3</td>\n",
       "      <td>79</td>\n",
       "    </tr>\n",
       "    <tr>\n",
       "      <th>1</th>\n",
       "      <td>2</td>\n",
       "      <td>China</td>\n",
       "      <td>Anuel AA</td>\n",
       "      <td>reggaeton flow</td>\n",
       "      <td>105</td>\n",
       "      <td>81</td>\n",
       "      <td>79</td>\n",
       "      <td>-4</td>\n",
       "      <td>8</td>\n",
       "      <td>61</td>\n",
       "      <td>302</td>\n",
       "      <td>8</td>\n",
       "      <td>9</td>\n",
       "      <td>92</td>\n",
       "    </tr>\n",
       "    <tr>\n",
       "      <th>2</th>\n",
       "      <td>3</td>\n",
       "      <td>boyfriend (with Social House)</td>\n",
       "      <td>Ariana Grande</td>\n",
       "      <td>dance pop</td>\n",
       "      <td>190</td>\n",
       "      <td>80</td>\n",
       "      <td>40</td>\n",
       "      <td>-4</td>\n",
       "      <td>16</td>\n",
       "      <td>70</td>\n",
       "      <td>186</td>\n",
       "      <td>12</td>\n",
       "      <td>46</td>\n",
       "      <td>85</td>\n",
       "    </tr>\n",
       "    <tr>\n",
       "      <th>3</th>\n",
       "      <td>4</td>\n",
       "      <td>Beautiful People (feat. Khalid)</td>\n",
       "      <td>Ed Sheeran</td>\n",
       "      <td>pop</td>\n",
       "      <td>93</td>\n",
       "      <td>65</td>\n",
       "      <td>64</td>\n",
       "      <td>-8</td>\n",
       "      <td>8</td>\n",
       "      <td>55</td>\n",
       "      <td>198</td>\n",
       "      <td>12</td>\n",
       "      <td>19</td>\n",
       "      <td>86</td>\n",
       "    </tr>\n",
       "    <tr>\n",
       "      <th>4</th>\n",
       "      <td>5</td>\n",
       "      <td>Goodbyes (Feat. Young Thug)</td>\n",
       "      <td>Post Malone</td>\n",
       "      <td>dfw rap</td>\n",
       "      <td>150</td>\n",
       "      <td>65</td>\n",
       "      <td>58</td>\n",
       "      <td>-4</td>\n",
       "      <td>11</td>\n",
       "      <td>18</td>\n",
       "      <td>175</td>\n",
       "      <td>45</td>\n",
       "      <td>7</td>\n",
       "      <td>94</td>\n",
       "    </tr>\n",
       "  </tbody>\n",
       "</table>\n",
       "</div>"
      ],
      "text/plain": [
       "   Unnamed: 0                       Track.Name    Artist.Name           Genre  \\\n",
       "0           1                         Señorita   Shawn Mendes    canadian pop   \n",
       "1           2                            China       Anuel AA  reggaeton flow   \n",
       "2           3    boyfriend (with Social House)  Ariana Grande       dance pop   \n",
       "3           4  Beautiful People (feat. Khalid)     Ed Sheeran             pop   \n",
       "4           5      Goodbyes (Feat. Young Thug)    Post Malone         dfw rap   \n",
       "\n",
       "   Beats.Per.Minute  Energy  Danceability  Loudness..dB..  Liveness  Valence.  \\\n",
       "0               117      55            76              -6         8        75   \n",
       "1               105      81            79              -4         8        61   \n",
       "2               190      80            40              -4        16        70   \n",
       "3                93      65            64              -8         8        55   \n",
       "4               150      65            58              -4        11        18   \n",
       "\n",
       "   Length.  Acousticness..  Speechiness.  Popularity  \n",
       "0      191               4             3          79  \n",
       "1      302               8             9          92  \n",
       "2      186              12            46          85  \n",
       "3      198              12            19          86  \n",
       "4      175              45             7          94  "
      ]
     },
     "execution_count": 152,
     "metadata": {},
     "output_type": "execute_result"
    }
   ],
   "source": [
    "spotify=pd.read_csv('C:/Users/Administrator/Desktop/top50.csv', encoding='latin-1')\n",
    "spotify.head()"
   ]
  },
  {
   "cell_type": "code",
   "execution_count": 153,
   "metadata": {},
   "outputs": [],
   "source": [
    "spotify.columns=['number','Track_name','Artist_name','Genre','Beats_per_minute','Energy','Danceability','Loudness','Liveness','Valence','Length','Acousticness','Speechiness','Popularity']"
   ]
  },
  {
   "cell_type": "code",
   "execution_count": 154,
   "metadata": {},
   "outputs": [
    {
     "data": {
      "text/plain": [
       "(50, 14)"
      ]
     },
     "execution_count": 154,
     "metadata": {},
     "output_type": "execute_result"
    }
   ],
   "source": [
    "spotify.shape"
   ]
  },
  {
   "cell_type": "code",
   "execution_count": 155,
   "metadata": {},
   "outputs": [
    {
     "data": {
      "text/plain": [
       "<matplotlib.axes._subplots.AxesSubplot at 0x2a776ee6ac8>"
      ]
     },
     "execution_count": 155,
     "metadata": {},
     "output_type": "execute_result"
    },
    {
     "data": {
      "image/png": "[encoded data removed]",
      "text/plain": [
       "<Figure size 432x288 with 1 Axes>"
      ]
     },
     "metadata": {
      "needs_background": "light"
     },
     "output_type": "display_data"
    }
   ],
   "source": [
    "spotify.groupby('Track_name')['Beats_per_minute'].sum().sort_values(ascending=False).head(10).plot(kind='bar')"
   ]
  },
  {
   "cell_type": "code",
   "execution_count": 156,
   "metadata": {},
   "outputs": [
    {
     "data": {
      "text/plain": [
       "<matplotlib.axes._subplots.AxesSubplot at 0x2a776e68b70>"
      ]
     },
     "execution_count": 156,
     "metadata": {},
     "output_type": "execute_result"
    },
    {
     "data": {
      "image/png": "[encoded data removed]",
      "text/plain": [
       "<Figure size 432x288 with 1 Axes>"
      ]
     },
     "metadata": {
      "needs_background": "light"
     },
     "output_type": "display_data"
    }
   ],
   "source": [
    "spotify.groupby('Genre')['Popularity'].sum().sort_values(ascending=False).head(10).plot(kind='bar')"
   ]
  },
  {
   "cell_type": "code",
   "execution_count": 157,
   "metadata": {},
   "outputs": [
    {
     "data": {
      "text/plain": [
       "Artist_name\n",
       "Ed Sheeran          4\n",
       "The Chainsmokers    2\n",
       "Ariana Grande       2\n",
       "Shawn Mendes        2\n",
       "Sech                2\n",
       "Billie Eilish       2\n",
       "Post Malone         2\n",
       "Lil Nas X           2\n",
       "Marshmello          2\n",
       "J Balvin            2\n",
       "Young Thug          1\n",
       "Katy Perry          1\n",
       "Jonas Brothers      1\n",
       "Jhay Cortez         1\n",
       "DJ Snake            1\n",
       "Drake               1\n",
       "Daddy Yankee        1\n",
       "Kygo                1\n",
       "Chris Brown         1\n",
       "Bad Bunny           1\n",
       "Anuel AA            1\n",
       "Khalid              1\n",
       "Lewis Capaldi       1\n",
       "Lady Gaga           1\n",
       "Lauv                1\n",
       "Y2K                 1\n",
       "Lil Tecca           1\n",
       "Lizzo               1\n",
       "Lunay               1\n",
       "MEDUZA              1\n",
       "Maluma              1\n",
       "Martin Garrix       1\n",
       "Nicky Jam           1\n",
       "ROSALÍA             1\n",
       "Sam Smith           1\n",
       "Taylor Swift        1\n",
       "Tones and I         1\n",
       "Ali Gatie           1\n",
       "Name: number, dtype: int64"
      ]
     },
     "execution_count": 157,
     "metadata": {},
     "output_type": "execute_result"
    }
   ],
   "source": [
    "spotify.groupby('Artist_name')['number'].count().sort_values(ascending=False)\n"
   ]
  },
  {
   "cell_type": "code",
   "execution_count": 158,
   "metadata": {},
   "outputs": [
    {
     "data": {
      "text/plain": [
       "number              0.000000\n",
       "Beats_per_minute    0.854504\n",
       "Energy             -0.453199\n",
       "Danceability       -1.379891\n",
       "Loudness           -0.831915\n",
       "Liveness            2.203937\n",
       "Valence            -0.046490\n",
       "Length              0.748554\n",
       "Acousticness        1.135290\n",
       "Speechiness         1.377581\n",
       "Popularity         -1.503434\n",
       "dtype: float64"
      ]
     },
     "execution_count": 158,
     "metadata": {},
     "output_type": "execute_result"
    }
   ],
   "source": [
    "spotify.skew()"
   ]
  },
  {
   "cell_type": "code",
   "execution_count": 159,
   "metadata": {},
   "outputs": [
    {
     "data": {
      "text/plain": [
       "0.9759266681438983"
      ]
     },
     "execution_count": 159,
     "metadata": {},
     "output_type": "execute_result"
    }
   ],
   "source": [
    "np.log(spotify['Liveness']).skew()"
   ]
  },
  {
   "cell_type": "code",
   "execution_count": 160,
   "metadata": {},
   "outputs": [],
   "source": [
    "sq=np.asarray(spotify['Liveness'].values)\n",
    "skew_live=stats.boxcox(sq)[0]"
   ]
  },
  {
   "cell_type": "code",
   "execution_count": 161,
   "metadata": {},
   "outputs": [
    {
     "data": {
      "text/plain": [
       "<matplotlib.axes._subplots.AxesSubplot at 0x2a7794484a8>"
      ]
     },
     "execution_count": 161,
     "metadata": {},
     "output_type": "execute_result"
    },
    {
     "data": {
      "image/png": "[encoded data removed]",
      "text/plain": [
       "<Figure size 432x288 with 1 Axes>"
      ]
     },
     "metadata": {
      "needs_background": "light"
     },
     "output_type": "display_data"
    }
   ],
   "source": [
    "sns.distplot(spotify['Liveness'],bins=10)"
   ]
  },
  {
   "cell_type": "code",
   "execution_count": 162,
   "metadata": {},
   "outputs": [
    {
     "data": {
      "text/plain": [
       "<matplotlib.axes._subplots.AxesSubplot at 0x2a7794b0c18>"
      ]
     },
     "execution_count": 162,
     "metadata": {},
     "output_type": "execute_result"
    },
    {
     "data": {
      "image/png": "[encoded data removed]",
      "text/plain": [
       "<Figure size 432x288 with 1 Axes>"
      ]
     },
     "metadata": {
      "needs_background": "light"
     },
     "output_type": "display_data"
    }
   ],
   "source": [
    "sns.distplot(np.log(spotify['Liveness']),bins=10)"
   ]
  },
  {
   "cell_type": "code",
   "execution_count": 163,
   "metadata": {},
   "outputs": [
    {
     "data": {
      "text/plain": [
       "<matplotlib.axes._subplots.AxesSubplot at 0x2a77950a7f0>"
      ]
     },
     "execution_count": 163,
     "metadata": {},
     "output_type": "execute_result"
    },
    {
     "data": {
      "image/png": "[encoded data removed]",
      "text/plain": [
       "<Figure size 432x288 with 1 Axes>"
      ]
     },
     "metadata": {
      "needs_background": "light"
     },
     "output_type": "display_data"
    }
   ],
   "source": [
    "sns.distplot(skew_live,bins=10)"
   ]
  },
  {
   "cell_type": "code",
   "execution_count": 164,
   "metadata": {},
   "outputs": [
    {
     "data": {
      "text/plain": [
       "<matplotlib.axes._subplots.AxesSubplot at 0x2a77957a7f0>"
      ]
     },
     "execution_count": 164,
     "metadata": {},
     "output_type": "execute_result"
    },
    {
     "data": {
      "image/png": "[encoded data removed]",
      "text/plain": [
       "<Figure size 432x288 with 1 Axes>"
      ]
     },
     "metadata": {
      "needs_background": "light"
     },
     "output_type": "display_data"
    }
   ],
   "source": [
    "sns.distplot(spotify['Danceability'],bins=10)"
   ]
  },
  {
   "cell_type": "code",
   "execution_count": 165,
   "metadata": {},
   "outputs": [
    {
     "data": {
      "text/plain": [
       "-0.12038020980250373"
      ]
     },
     "execution_count": 165,
     "metadata": {},
     "output_type": "execute_result"
    }
   ],
   "source": [
    "qa=np.asarray(spotify['Danceability'].values)\n",
    "skew_dance=stats.boxcox(qa)[0]\n",
    "pd.Series(skew_dance).skew()"
   ]
  },
  {
   "cell_type": "code",
   "execution_count": 134,
   "metadata": {},
   "outputs": [
    {
     "data": {
      "text/plain": [
       "<matplotlib.axes._subplots.AxesSubplot at 0x2a776c218d0>"
      ]
     },
     "execution_count": 134,
     "metadata": {},
     "output_type": "execute_result"
    },
    {
     "data": {
      "image/png": "[encoded data removed]",
      "text/plain": [
       "<Figure size 432x288 with 1 Axes>"
      ]
     },
     "metadata": {
      "needs_background": "light"
     },
     "output_type": "display_data"
    }
   ],
   "source": [
    "sns.distplot(skew_dance,bins=10)"
   ]
  },
  {
   "cell_type": "code",
   "execution_count": 135,
   "metadata": {},
   "outputs": [],
   "source": [
    "correlation=spotify.corr()"
   ]
  },
  {
   "cell_type": "code",
   "execution_count": 137,
   "metadata": {},
   "outputs": [
    {
     "data": {
      "text/plain": [
       "<matplotlib.axes._subplots.AxesSubplot at 0x2a778c50908>"
      ]
     },
     "execution_count": 137,
     "metadata": {},
     "output_type": "execute_result"
    },
    {
     "data": {
      "image/png": "[encoded data removed]",
      "text/plain": [
       "<Figure size 720x720 with 2 Axes>"
      ]
     },
     "metadata": {
      "needs_background": "light"
     },
     "output_type": "display_data"
    }
   ],
   "source": [
    "plt.figure(figsize=(10,10))\n",
    "sns.heatmap(correlation,annot=True)"
   ]
  },
  {
   "cell_type": "code",
   "execution_count": 138,
   "metadata": {},
   "outputs": [],
   "source": [
    "numeric_data=spotify[['Beats_per_minute','Energy','Danceability','Loudness','Liveness','Valence','Length','Acousticness']]"
   ]
  },
  {
   "cell_type": "code",
   "execution_count": 139,
   "metadata": {},
   "outputs": [
    {
     "data": {
      "text/plain": [
       "<Figure size 720x720 with 0 Axes>"
      ]
     },
     "execution_count": 139,
     "metadata": {},
     "output_type": "execute_result"
    },
    {
     "data": {
      "image/png": "[encoded data removed]",
      "text/plain": [
       "<Figure size 432x288 with 1 Axes>"
      ]
     },
     "metadata": {
      "needs_background": "light"
     },
     "output_type": "display_data"
    },
    {
     "data": {
      "text/plain": [
       "<Figure size 720x720 with 0 Axes>"
      ]
     },
     "metadata": {},
     "output_type": "display_data"
    }
   ],
   "source": [
    "numeric_data.plot(kind='box')\n",
    "plt.xticks(rotation=90)\n",
    "plt.figure(figsize=(10,10))"
   ]
  },
  {
   "cell_type": "code",
   "execution_count": 140,
   "metadata": {},
   "outputs": [
    {
     "name": "stderr",
     "output_type": "stream",
     "text": [
      "C:\\ProgramData\\Anaconda3\\lib\\site-packages\\ipykernel_launcher.py:4: FutureWarning: clip_upper(threshold) is deprecated, use clip(upper=threshold) instead\n",
      "  after removing the cwd from sys.path.\n",
      "C:\\ProgramData\\Anaconda3\\lib\\site-packages\\ipykernel_launcher.py:5: FutureWarning: clip_lower(threshold) is deprecated, use clip(lower=threshold) instead\n",
      "  \"\"\"\n"
     ]
    }
   ],
   "source": [
    "def outlier_capping(x):\n",
    "    ul = x.quantile(0.75)+1.5*(x.quantile(0.75)-x.quantile(0.25))\n",
    "    ll = x.quantile(0.25)-1.5*(x.quantile(0.75)-x.quantile(0.25))\n",
    "    x = x.clip_upper(ul)\n",
    "    x = x.clip_lower(ll)\n",
    "    return x\n",
    "\n",
    "updated_data=numeric_data.apply(lambda x:outlier_capping(x))"
   ]
  },
  {
   "cell_type": "code",
   "execution_count": 141,
   "metadata": {},
   "outputs": [
    {
     "data": {
      "text/plain": [
       "<Figure size 720x720 with 0 Axes>"
      ]
     },
     "execution_count": 141,
     "metadata": {},
     "output_type": "execute_result"
    },
    {
     "data": {
      "image/png": "[encoded data removed]",
      "text/plain": [
       "<Figure size 432x288 with 1 Axes>"
      ]
     },
     "metadata": {
      "needs_background": "light"
     },
     "output_type": "display_data"
    },
    {
     "data": {
      "text/plain": [
       "<Figure size 720x720 with 0 Axes>"
      ]
     },
     "metadata": {},
     "output_type": "display_data"
    }
   ],
   "source": [
    "updated_data.plot(kind='box')\n",
    "plt.xticks(rotation=90)\n",
    "plt.figure(figsize=(10,10))"
   ]
  },
  {
   "cell_type": "code",
   "execution_count": 142,
   "metadata": {},
   "outputs": [
    {
     "data": {
      "image/png": "[encoded data removed]",
      "text/plain": [
       "<Figure size 432x288 with 1 Axes>"
      ]
     },
     "metadata": {},
     "output_type": "display_data"
    },
    {
     "data": {
      "text/plain": [
       "<Figure size 1440x1440 with 0 Axes>"
      ]
     },
     "metadata": {},
     "output_type": "display_data"
    }
   ],
   "source": [
    "pie=spotify['Genre'].value_counts()\n",
    "label=spotify['Genre'].value_counts().index\n",
    "plt.pie(pie,labels=label,autopct='%.2f%%')\n",
    "plt.figure(figsize=(20,20))\n",
    "plt.show()"
   ]
  },
  {
   "cell_type": "code",
   "execution_count": 143,
   "metadata": {},
   "outputs": [
    {
     "data": {
      "text/plain": [
       "array(['canadian pop', 'reggaeton flow', 'dance pop', 'pop', 'dfw rap',\n",
       "       'trap music', 'country rap', 'electropop', 'reggaeton',\n",
       "       'panamanian pop', 'canadian hip hop', 'latin', 'escape room',\n",
       "       'pop house', 'australian pop', 'edm', 'atl hip hop', 'big room',\n",
       "       'boy band', 'r&b en espanol', 'brostep'], dtype=object)"
      ]
     },
     "execution_count": 143,
     "metadata": {},
     "output_type": "execute_result"
    }
   ],
   "source": [
    "spotify['Genre'].unique()"
   ]
  },
  {
   "cell_type": "code",
   "execution_count": 77,
   "metadata": {},
   "outputs": [
    {
     "data": {
      "text/html": [
       "<div>\n",
       "<style scoped>\n",
       "    .dataframe tbody tr th:only-of-type {\n",
       "        vertical-align: middle;\n",
       "    }\n",
       "\n",
       "    .dataframe tbody tr th {\n",
       "        vertical-align: top;\n",
       "    }\n",
       "\n",
       "    .dataframe thead th {\n",
       "        text-align: right;\n",
       "    }\n",
       "</style>\n",
       "<table border=\"1\" class=\"dataframe\">\n",
       "  <thead>\n",
       "    <tr style=\"text-align: right;\">\n",
       "      <th></th>\n",
       "      <th>0</th>\n",
       "      <th>1</th>\n",
       "      <th>2</th>\n",
       "      <th>3</th>\n",
       "      <th>4</th>\n",
       "      <th>5</th>\n",
       "      <th>6</th>\n",
       "      <th>7</th>\n",
       "    </tr>\n",
       "  </thead>\n",
       "  <tbody>\n",
       "    <tr>\n",
       "      <th>0</th>\n",
       "      <td>-0.100040</td>\n",
       "      <td>-0.643061</td>\n",
       "      <td>0.391195</td>\n",
       "      <td>-0.167012</td>\n",
       "      <td>-0.605094</td>\n",
       "      <td>0.922595</td>\n",
       "      <td>-0.257029</td>\n",
       "      <td>-0.965719</td>\n",
       "    </tr>\n",
       "    <tr>\n",
       "      <th>1</th>\n",
       "      <td>-0.492352</td>\n",
       "      <td>1.202367</td>\n",
       "      <td>0.645217</td>\n",
       "      <td>0.815412</td>\n",
       "      <td>-0.605094</td>\n",
       "      <td>0.289442</td>\n",
       "      <td>2.607453</td>\n",
       "      <td>-0.753006</td>\n",
       "    </tr>\n",
       "    <tr>\n",
       "      <th>2</th>\n",
       "      <td>2.286529</td>\n",
       "      <td>1.131389</td>\n",
       "      <td>-2.657075</td>\n",
       "      <td>0.815412</td>\n",
       "      <td>0.121746</td>\n",
       "      <td>0.696469</td>\n",
       "      <td>-0.386060</td>\n",
       "      <td>-0.540292</td>\n",
       "    </tr>\n",
       "    <tr>\n",
       "      <th>3</th>\n",
       "      <td>-0.884665</td>\n",
       "      <td>0.066719</td>\n",
       "      <td>-0.624895</td>\n",
       "      <td>-1.149437</td>\n",
       "      <td>-0.605094</td>\n",
       "      <td>0.018090</td>\n",
       "      <td>-0.076386</td>\n",
       "      <td>-0.540292</td>\n",
       "    </tr>\n",
       "    <tr>\n",
       "      <th>4</th>\n",
       "      <td>0.978820</td>\n",
       "      <td>0.066719</td>\n",
       "      <td>-1.132940</td>\n",
       "      <td>0.815412</td>\n",
       "      <td>-0.332529</td>\n",
       "      <td>-1.655245</td>\n",
       "      <td>-0.669927</td>\n",
       "      <td>1.214594</td>\n",
       "    </tr>\n",
       "  </tbody>\n",
       "</table>\n",
       "</div>"
      ],
      "text/plain": [
       "          0         1         2         3         4         5         6  \\\n",
       "0 -0.100040 -0.643061  0.391195 -0.167012 -0.605094  0.922595 -0.257029   \n",
       "1 -0.492352  1.202367  0.645217  0.815412 -0.605094  0.289442  2.607453   \n",
       "2  2.286529  1.131389 -2.657075  0.815412  0.121746  0.696469 -0.386060   \n",
       "3 -0.884665  0.066719 -0.624895 -1.149437 -0.605094  0.018090 -0.076386   \n",
       "4  0.978820  0.066719 -1.132940  0.815412 -0.332529 -1.655245 -0.669927   \n",
       "\n",
       "          7  \n",
       "0 -0.965719  \n",
       "1 -0.753006  \n",
       "2 -0.540292  \n",
       "3 -0.540292  \n",
       "4  1.214594  "
      ]
     },
     "execution_count": 77,
     "metadata": {},
     "output_type": "execute_result"
    }
   ],
   "source": [
    "sc=StandardScaler()\n",
    "sc_data=sc.fit_transform(numeric_data)\n",
    "sc_data=pd.DataFrame(sc_data)\n",
    "sc_data.head()"
   ]
  },
  {
   "cell_type": "code",
   "execution_count": 36,
   "metadata": {},
   "outputs": [],
   "source": [
    "sc_data.columns=numeric_data.columns"
   ]
  },
  {
   "cell_type": "code",
   "execution_count": 38,
   "metadata": {},
   "outputs": [
    {
     "data": {
      "text/plain": [
       "Beats_per_minute    0.854504\n",
       "Energy             -0.453199\n",
       "Danceability       -1.379891\n",
       "Loudness           -0.831915\n",
       "Liveness            2.203937\n",
       "Valence            -0.046490\n",
       "Length              0.748554\n",
       "Acousticness        1.135290\n",
       "Speechiness         1.377581\n",
       "dtype: float64"
      ]
     },
     "execution_count": 38,
     "metadata": {},
     "output_type": "execute_result"
    }
   ],
   "source": [
    "sc_data.skew()"
   ]
  },
  {
   "cell_type": "code",
   "execution_count": 44,
   "metadata": {},
   "outputs": [
    {
     "data": {
      "text/html": [
       "<div>\n",
       "<style scoped>\n",
       "    .dataframe tbody tr th:only-of-type {\n",
       "        vertical-align: middle;\n",
       "    }\n",
       "\n",
       "    .dataframe tbody tr th {\n",
       "        vertical-align: top;\n",
       "    }\n",
       "\n",
       "    .dataframe thead th {\n",
       "        text-align: right;\n",
       "    }\n",
       "</style>\n",
       "<table border=\"1\" class=\"dataframe\">\n",
       "  <thead>\n",
       "    <tr style=\"text-align: right;\">\n",
       "      <th></th>\n",
       "      <th>Beats_per_minute</th>\n",
       "      <th>Energy</th>\n",
       "      <th>Danceability</th>\n",
       "      <th>Loudness</th>\n",
       "      <th>Liveness</th>\n",
       "      <th>Valence</th>\n",
       "      <th>Length</th>\n",
       "      <th>Acousticness</th>\n",
       "      <th>Speechiness</th>\n",
       "    </tr>\n",
       "  </thead>\n",
       "  <tbody>\n",
       "    <tr>\n",
       "      <th>Beats_per_minute</th>\n",
       "      <td>1.000000</td>\n",
       "      <td>0.043756</td>\n",
       "      <td>-0.094183</td>\n",
       "      <td>0.017016</td>\n",
       "      <td>-0.167286</td>\n",
       "      <td>-0.011586</td>\n",
       "      <td>-0.139288</td>\n",
       "      <td>-0.031450</td>\n",
       "      <td>0.557052</td>\n",
       "    </tr>\n",
       "    <tr>\n",
       "      <th>Energy</th>\n",
       "      <td>0.043756</td>\n",
       "      <td>1.000000</td>\n",
       "      <td>0.018254</td>\n",
       "      <td>0.670794</td>\n",
       "      <td>0.162768</td>\n",
       "      <td>0.438820</td>\n",
       "      <td>0.224677</td>\n",
       "      <td>-0.339892</td>\n",
       "      <td>-0.089860</td>\n",
       "    </tr>\n",
       "    <tr>\n",
       "      <th>Danceability</th>\n",
       "      <td>-0.094183</td>\n",
       "      <td>0.018254</td>\n",
       "      <td>1.000000</td>\n",
       "      <td>0.016255</td>\n",
       "      <td>-0.149636</td>\n",
       "      <td>0.172829</td>\n",
       "      <td>-0.000185</td>\n",
       "      <td>-0.098165</td>\n",
       "      <td>-0.103472</td>\n",
       "    </tr>\n",
       "    <tr>\n",
       "      <th>Loudness</th>\n",
       "      <td>0.017016</td>\n",
       "      <td>0.670794</td>\n",
       "      <td>0.016255</td>\n",
       "      <td>1.000000</td>\n",
       "      <td>0.258652</td>\n",
       "      <td>0.237614</td>\n",
       "      <td>0.219219</td>\n",
       "      <td>-0.138300</td>\n",
       "      <td>-0.272213</td>\n",
       "    </tr>\n",
       "    <tr>\n",
       "      <th>Liveness</th>\n",
       "      <td>-0.167286</td>\n",
       "      <td>0.162768</td>\n",
       "      <td>-0.149636</td>\n",
       "      <td>0.258652</td>\n",
       "      <td>1.000000</td>\n",
       "      <td>0.016123</td>\n",
       "      <td>0.131782</td>\n",
       "      <td>0.021328</td>\n",
       "      <td>-0.125286</td>\n",
       "    </tr>\n",
       "    <tr>\n",
       "      <th>Valence</th>\n",
       "      <td>-0.011586</td>\n",
       "      <td>0.438820</td>\n",
       "      <td>0.172829</td>\n",
       "      <td>0.237614</td>\n",
       "      <td>0.016123</td>\n",
       "      <td>1.000000</td>\n",
       "      <td>-0.017782</td>\n",
       "      <td>-0.052323</td>\n",
       "      <td>-0.053242</td>\n",
       "    </tr>\n",
       "    <tr>\n",
       "      <th>Length</th>\n",
       "      <td>-0.139288</td>\n",
       "      <td>0.224677</td>\n",
       "      <td>-0.000185</td>\n",
       "      <td>0.219219</td>\n",
       "      <td>0.131782</td>\n",
       "      <td>-0.017782</td>\n",
       "      <td>1.000000</td>\n",
       "      <td>-0.076293</td>\n",
       "      <td>0.046755</td>\n",
       "    </tr>\n",
       "    <tr>\n",
       "      <th>Acousticness</th>\n",
       "      <td>-0.031450</td>\n",
       "      <td>-0.339892</td>\n",
       "      <td>-0.098165</td>\n",
       "      <td>-0.138300</td>\n",
       "      <td>0.021328</td>\n",
       "      <td>-0.052323</td>\n",
       "      <td>-0.076293</td>\n",
       "      <td>1.000000</td>\n",
       "      <td>0.008293</td>\n",
       "    </tr>\n",
       "    <tr>\n",
       "      <th>Speechiness</th>\n",
       "      <td>0.557052</td>\n",
       "      <td>-0.089860</td>\n",
       "      <td>-0.103472</td>\n",
       "      <td>-0.272213</td>\n",
       "      <td>-0.125286</td>\n",
       "      <td>-0.053242</td>\n",
       "      <td>0.046755</td>\n",
       "      <td>0.008293</td>\n",
       "      <td>1.000000</td>\n",
       "    </tr>\n",
       "  </tbody>\n",
       "</table>\n",
       "</div>"
      ],
      "text/plain": [
       "                  Beats_per_minute    Energy  Danceability  Loudness  \\\n",
       "Beats_per_minute          1.000000  0.043756     -0.094183  0.017016   \n",
       "Energy                    0.043756  1.000000      0.018254  0.670794   \n",
       "Danceability             -0.094183  0.018254      1.000000  0.016255   \n",
       "Loudness                  0.017016  0.670794      0.016255  1.000000   \n",
       "Liveness                 -0.167286  0.162768     -0.149636  0.258652   \n",
       "Valence                  -0.011586  0.438820      0.172829  0.237614   \n",
       "Length                   -0.139288  0.224677     -0.000185  0.219219   \n",
       "Acousticness             -0.031450 -0.339892     -0.098165 -0.138300   \n",
       "Speechiness               0.557052 -0.089860     -0.103472 -0.272213   \n",
       "\n",
       "                  Liveness   Valence    Length  Acousticness  Speechiness  \n",
       "Beats_per_minute -0.167286 -0.011586 -0.139288     -0.031450     0.557052  \n",
       "Energy            0.162768  0.438820  0.224677     -0.339892    -0.089860  \n",
       "Danceability     -0.149636  0.172829 -0.000185     -0.098165    -0.103472  \n",
       "Loudness          0.258652  0.237614  0.219219     -0.138300    -0.272213  \n",
       "Liveness          1.000000  0.016123  0.131782      0.021328    -0.125286  \n",
       "Valence           0.016123  1.000000 -0.017782     -0.052323    -0.053242  \n",
       "Length            0.131782 -0.017782  1.000000     -0.076293     0.046755  \n",
       "Acousticness      0.021328 -0.052323 -0.076293      1.000000     0.008293  \n",
       "Speechiness      -0.125286 -0.053242  0.046755      0.008293     1.000000  "
      ]
     },
     "execution_count": 44,
     "metadata": {},
     "output_type": "execute_result"
    }
   ],
   "source": [
    "sc_data.corr()"
   ]
  },
  {
   "cell_type": "code",
   "execution_count": 45,
   "metadata": {},
   "outputs": [],
   "source": [
    "x=sc_data\n",
    "y=spotify['Popularity']"
   ]
  },
  {
   "cell_type": "code",
   "execution_count": 87,
   "metadata": {},
   "outputs": [
    {
     "data": {
      "text/plain": [
       "38"
      ]
     },
     "execution_count": 87,
     "metadata": {},
     "output_type": "execute_result"
    }
   ],
   "source": [
    "spotify['Artist_name'].nunique()"
   ]
  },
  {
   "cell_type": "code",
   "execution_count": 88,
   "metadata": {},
   "outputs": [
    {
     "data": {
      "text/plain": [
       "50"
      ]
     },
     "execution_count": 88,
     "metadata": {},
     "output_type": "execute_result"
    }
   ],
   "source": [
    "spotify['Track_name'].nunique()"
   ]
  },
  {
   "cell_type": "code",
   "execution_count": 89,
   "metadata": {},
   "outputs": [
    {
     "data": {
      "text/plain": [
       "21"
      ]
     },
     "execution_count": 89,
     "metadata": {},
     "output_type": "execute_result"
    }
   ],
   "source": [
    "spotify['Genre'].nunique()"
   ]
  },
  {
   "cell_type": "code",
   "execution_count": 91,
   "metadata": {},
   "outputs": [
    {
     "data": {
      "text/html": [
       "<div>\n",
       "<style scoped>\n",
       "    .dataframe tbody tr th:only-of-type {\n",
       "        vertical-align: middle;\n",
       "    }\n",
       "\n",
       "    .dataframe tbody tr th {\n",
       "        vertical-align: top;\n",
       "    }\n",
       "\n",
       "    .dataframe thead th {\n",
       "        text-align: right;\n",
       "    }\n",
       "</style>\n",
       "<table border=\"1\" class=\"dataframe\">\n",
       "  <thead>\n",
       "    <tr style=\"text-align: right;\">\n",
       "      <th></th>\n",
       "      <th>Artist_name</th>\n",
       "      <th>Genre</th>\n",
       "      <th>Beats_per_minute</th>\n",
       "      <th>Energy</th>\n",
       "      <th>Danceability</th>\n",
       "      <th>Loudness</th>\n",
       "      <th>Liveness</th>\n",
       "      <th>Valence</th>\n",
       "      <th>Length</th>\n",
       "      <th>Acousticness</th>\n",
       "    </tr>\n",
       "  </thead>\n",
       "  <tbody>\n",
       "    <tr>\n",
       "      <th>0</th>\n",
       "      <td>Shawn Mendes</td>\n",
       "      <td>canadian pop</td>\n",
       "      <td>117</td>\n",
       "      <td>55</td>\n",
       "      <td>76</td>\n",
       "      <td>-6</td>\n",
       "      <td>8</td>\n",
       "      <td>75</td>\n",
       "      <td>191</td>\n",
       "      <td>4</td>\n",
       "    </tr>\n",
       "    <tr>\n",
       "      <th>1</th>\n",
       "      <td>Anuel AA</td>\n",
       "      <td>reggaeton flow</td>\n",
       "      <td>105</td>\n",
       "      <td>81</td>\n",
       "      <td>79</td>\n",
       "      <td>-4</td>\n",
       "      <td>8</td>\n",
       "      <td>61</td>\n",
       "      <td>302</td>\n",
       "      <td>8</td>\n",
       "    </tr>\n",
       "    <tr>\n",
       "      <th>2</th>\n",
       "      <td>Ariana Grande</td>\n",
       "      <td>dance pop</td>\n",
       "      <td>190</td>\n",
       "      <td>80</td>\n",
       "      <td>40</td>\n",
       "      <td>-4</td>\n",
       "      <td>16</td>\n",
       "      <td>70</td>\n",
       "      <td>186</td>\n",
       "      <td>12</td>\n",
       "    </tr>\n",
       "    <tr>\n",
       "      <th>3</th>\n",
       "      <td>Ed Sheeran</td>\n",
       "      <td>pop</td>\n",
       "      <td>93</td>\n",
       "      <td>65</td>\n",
       "      <td>64</td>\n",
       "      <td>-8</td>\n",
       "      <td>8</td>\n",
       "      <td>55</td>\n",
       "      <td>198</td>\n",
       "      <td>12</td>\n",
       "    </tr>\n",
       "    <tr>\n",
       "      <th>4</th>\n",
       "      <td>Post Malone</td>\n",
       "      <td>dfw rap</td>\n",
       "      <td>150</td>\n",
       "      <td>65</td>\n",
       "      <td>58</td>\n",
       "      <td>-4</td>\n",
       "      <td>11</td>\n",
       "      <td>18</td>\n",
       "      <td>175</td>\n",
       "      <td>45</td>\n",
       "    </tr>\n",
       "  </tbody>\n",
       "</table>\n",
       "</div>"
      ],
      "text/plain": [
       "     Artist_name           Genre  Beats_per_minute  Energy  Danceability  \\\n",
       "0   Shawn Mendes    canadian pop               117      55            76   \n",
       "1       Anuel AA  reggaeton flow               105      81            79   \n",
       "2  Ariana Grande       dance pop               190      80            40   \n",
       "3     Ed Sheeran             pop                93      65            64   \n",
       "4    Post Malone         dfw rap               150      65            58   \n",
       "\n",
       "   Loudness  Liveness  Valence  Length  Acousticness  \n",
       "0        -6         8       75     191             4  \n",
       "1        -4         8       61     302             8  \n",
       "2        -4        16       70     186            12  \n",
       "3        -8         8       55     198            12  \n",
       "4        -4        11       18     175            45  "
      ]
     },
     "execution_count": 91,
     "metadata": {},
     "output_type": "execute_result"
    }
   ],
   "source": [
    "x=spotify[['Artist_name','Genre','Beats_per_minute','Energy','Danceability','Loudness','Liveness','Valence','Length','Acousticness']]\n",
    "x.head()"
   ]
  },
  {
   "cell_type": "code",
   "execution_count": 94,
   "metadata": {},
   "outputs": [
    {
     "data": {
      "text/plain": [
       "(50, 67)"
      ]
     },
     "execution_count": 94,
     "metadata": {},
     "output_type": "execute_result"
    }
   ],
   "source": [
    "x=pd.get_dummies(x)\n",
    "x.shape"
   ]
  },
  {
   "cell_type": "code",
   "execution_count": 144,
   "metadata": {},
   "outputs": [],
   "source": [
    "x_train,x_test,y_train,y_test=train_test_split(updated_data,y,test_size=0.20,random_state=0)"
   ]
  },
  {
   "cell_type": "code",
   "execution_count": 145,
   "metadata": {},
   "outputs": [
    {
     "data": {
      "text/plain": [
       "40"
      ]
     },
     "execution_count": 145,
     "metadata": {},
     "output_type": "execute_result"
    }
   ],
   "source": [
    "len(x_train)"
   ]
  },
  {
   "cell_type": "code",
   "execution_count": 146,
   "metadata": {},
   "outputs": [
    {
     "data": {
      "text/plain": [
       "10"
      ]
     },
     "execution_count": 146,
     "metadata": {},
     "output_type": "execute_result"
    }
   ],
   "source": [
    "len(x_test)"
   ]
  },
  {
   "cell_type": "code",
   "execution_count": 147,
   "metadata": {},
   "outputs": [
    {
     "data": {
      "text/html": [
       "<table class=\"simpletable\">\n",
       "<caption>OLS Regression Results</caption>\n",
       "<tr>\n",
       "  <th>Dep. Variable:</th>       <td>Popularity</td>    <th>  R-squared:         </th> <td>   0.993</td>\n",
       "</tr>\n",
       "<tr>\n",
       "  <th>Model:</th>                   <td>OLS</td>       <th>  Adj. R-squared:    </th> <td>   0.992</td>\n",
       "</tr>\n",
       "<tr>\n",
       "  <th>Method:</th>             <td>Least Squares</td>  <th>  F-statistic:       </th> <td>   584.6</td>\n",
       "</tr>\n",
       "<tr>\n",
       "  <th>Date:</th>             <td>Sun, 05 Jan 2020</td> <th>  Prob (F-statistic):</th> <td>1.97e-32</td>\n",
       "</tr>\n",
       "<tr>\n",
       "  <th>Time:</th>                 <td>12:26:05</td>     <th>  Log-Likelihood:    </th> <td> -135.79</td>\n",
       "</tr>\n",
       "<tr>\n",
       "  <th>No. Observations:</th>      <td>    40</td>      <th>  AIC:               </th> <td>   287.6</td>\n",
       "</tr>\n",
       "<tr>\n",
       "  <th>Df Residuals:</th>          <td>    32</td>      <th>  BIC:               </th> <td>   301.1</td>\n",
       "</tr>\n",
       "<tr>\n",
       "  <th>Df Model:</th>              <td>     8</td>      <th>                     </th>     <td> </td>   \n",
       "</tr>\n",
       "<tr>\n",
       "  <th>Covariance Type:</th>      <td>nonrobust</td>    <th>                     </th>     <td> </td>   \n",
       "</tr>\n",
       "</table>\n",
       "<table class=\"simpletable\">\n",
       "<tr>\n",
       "          <td></td>            <th>coef</th>     <th>std err</th>      <th>t</th>      <th>P>|t|</th>  <th>[0.025</th>    <th>0.975]</th>  \n",
       "</tr>\n",
       "<tr>\n",
       "  <th>Beats_per_minute</th> <td>    0.1232</td> <td>    0.044</td> <td>    2.792</td> <td> 0.009</td> <td>    0.033</td> <td>    0.213</td>\n",
       "</tr>\n",
       "<tr>\n",
       "  <th>Energy</th>           <td>    0.3012</td> <td>    0.119</td> <td>    2.534</td> <td> 0.016</td> <td>    0.059</td> <td>    0.543</td>\n",
       "</tr>\n",
       "<tr>\n",
       "  <th>Danceability</th>     <td>    0.3357</td> <td>    0.110</td> <td>    3.050</td> <td> 0.005</td> <td>    0.112</td> <td>    0.560</td>\n",
       "</tr>\n",
       "<tr>\n",
       "  <th>Loudness</th>         <td>   -2.3319</td> <td>    0.656</td> <td>   -3.555</td> <td> 0.001</td> <td>   -3.668</td> <td>   -0.996</td>\n",
       "</tr>\n",
       "<tr>\n",
       "  <th>Liveness</th>         <td>    0.3402</td> <td>    0.194</td> <td>    1.751</td> <td> 0.089</td> <td>   -0.056</td> <td>    0.736</td>\n",
       "</tr>\n",
       "<tr>\n",
       "  <th>Valence</th>          <td>   -0.0793</td> <td>    0.071</td> <td>   -1.119</td> <td> 0.271</td> <td>   -0.224</td> <td>    0.065</td>\n",
       "</tr>\n",
       "<tr>\n",
       "  <th>Length</th>           <td>    0.0669</td> <td>    0.034</td> <td>    1.986</td> <td> 0.056</td> <td>   -0.002</td> <td>    0.135</td>\n",
       "</tr>\n",
       "<tr>\n",
       "  <th>Acousticness</th>     <td>    0.1087</td> <td>    0.077</td> <td>    1.413</td> <td> 0.167</td> <td>   -0.048</td> <td>    0.265</td>\n",
       "</tr>\n",
       "</table>\n",
       "<table class=\"simpletable\">\n",
       "<tr>\n",
       "  <th>Omnibus:</th>       <td> 0.204</td> <th>  Durbin-Watson:     </th> <td>   1.754</td>\n",
       "</tr>\n",
       "<tr>\n",
       "  <th>Prob(Omnibus):</th> <td> 0.903</td> <th>  Jarque-Bera (JB):  </th> <td>   0.268</td>\n",
       "</tr>\n",
       "<tr>\n",
       "  <th>Skew:</th>          <td>-0.154</td> <th>  Prob(JB):          </th> <td>   0.875</td>\n",
       "</tr>\n",
       "<tr>\n",
       "  <th>Kurtosis:</th>      <td> 2.743</td> <th>  Cond. No.          </th> <td>    134.</td>\n",
       "</tr>\n",
       "</table><br/><br/>Warnings:<br/>[1] Standard Errors assume that the covariance matrix of the errors is correctly specified."
      ],
      "text/plain": [
       "<class 'statsmodels.iolib.summary.Summary'>\n",
       "\"\"\"\n",
       "                            OLS Regression Results                            \n",
       "==============================================================================\n",
       "Dep. Variable:             Popularity   R-squared:                       0.993\n",
       "Model:                            OLS   Adj. R-squared:                  0.992\n",
       "Method:                 Least Squares   F-statistic:                     584.6\n",
       "Date:                Sun, 05 Jan 2020   Prob (F-statistic):           1.97e-32\n",
       "Time:                        12:26:05   Log-Likelihood:                -135.79\n",
       "No. Observations:                  40   AIC:                             287.6\n",
       "Df Residuals:                      32   BIC:                             301.1\n",
       "Df Model:                           8                                         \n",
       "Covariance Type:            nonrobust                                         \n",
       "====================================================================================\n",
       "                       coef    std err          t      P>|t|      [0.025      0.975]\n",
       "------------------------------------------------------------------------------------\n",
       "Beats_per_minute     0.1232      0.044      2.792      0.009       0.033       0.213\n",
       "Energy               0.3012      0.119      2.534      0.016       0.059       0.543\n",
       "Danceability         0.3357      0.110      3.050      0.005       0.112       0.560\n",
       "Loudness            -2.3319      0.656     -3.555      0.001      -3.668      -0.996\n",
       "Liveness             0.3402      0.194      1.751      0.089      -0.056       0.736\n",
       "Valence             -0.0793      0.071     -1.119      0.271      -0.224       0.065\n",
       "Length               0.0669      0.034      1.986      0.056      -0.002       0.135\n",
       "Acousticness         0.1087      0.077      1.413      0.167      -0.048       0.265\n",
       "==============================================================================\n",
       "Omnibus:                        0.204   Durbin-Watson:                   1.754\n",
       "Prob(Omnibus):                  0.903   Jarque-Bera (JB):                0.268\n",
       "Skew:                          -0.154   Prob(JB):                        0.875\n",
       "Kurtosis:                       2.743   Cond. No.                         134.\n",
       "==============================================================================\n",
       "\n",
       "Warnings:\n",
       "[1] Standard Errors assume that the covariance matrix of the errors is correctly specified.\n",
       "\"\"\""
      ]
     },
     "execution_count": 147,
     "metadata": {},
     "output_type": "execute_result"
    }
   ],
   "source": [
    "import statsmodels.formula.api as smf\n",
    "model=smf.OLS(y_train,x_train).fit()\n",
    "model.summary()"
   ]
  },
  {
   "cell_type": "code",
   "execution_count": 148,
   "metadata": {},
   "outputs": [
    {
     "name": "stdout",
     "output_type": "stream",
     "text": [
      "Coefficicents: [ 0.03644613 -0.00212071 -0.01041468 -0.02957912  0.10396512 -0.03965937\n",
      " -0.01142713 -0.03612045]\n",
      "intercept: 87.63224518339342\n"
     ]
    }
   ],
   "source": [
    "reg=LinearRegression()\n",
    "reg1=reg.fit(x_train,y_train)\n",
    "print('Coefficicents:',reg1.coef_)\n",
    "print('intercept:',reg1.intercept_)"
   ]
  },
  {
   "cell_type": "code",
   "execution_count": 149,
   "metadata": {},
   "outputs": [
    {
     "data": {
      "text/plain": [
       "array([85.5973637 , 87.17184606, 89.93578301, 85.80396547, 90.33546252,\n",
       "       87.09883154, 86.94324687, 87.62653371, 85.03835412, 89.28016425])"
      ]
     },
     "execution_count": 149,
     "metadata": {},
     "output_type": "execute_result"
    }
   ],
   "source": [
    "y_pred=reg1.predict(x_test)\n",
    "y_pred"
   ]
  },
  {
   "cell_type": "code",
   "execution_count": 166,
   "metadata": {},
   "outputs": [
    {
     "name": "stdout",
     "output_type": "stream",
     "text": [
      "RMSE= 4.076349583686365\n"
     ]
    }
   ],
   "source": [
    "rmse=np.sqrt(mean_squared_error(y_test,y_pred))\n",
    "r2=r2_score(y_test,y_pred)\n",
    "print('RMSE=',rmse)\n"
   ]
  },
  {
   "cell_type": "code",
   "execution_count": 173,
   "metadata": {},
   "outputs": [
    {
     "name": "stdout",
     "output_type": "stream",
     "text": [
      "    Actual  Predicted\n",
      "28      91         89\n",
      "11      86         88\n",
      "10      93         88\n",
      "41      90         91\n",
      "2       85         87\n",
      "27      89         88\n",
      "38      80         87\n",
      "31      89         88\n",
      "22      83         92\n",
      "4       94         88\n"
     ]
    }
   ],
   "source": [
    "gnb = GaussianNB()\n",
    "gnb.fit(x_train, y_train)\n",
    "y_pred=gnb.predict(x_test)\n",
    "df_output = pd.DataFrame({'Actual': y_test, 'Predicted': y_pred})\n",
    "print(df_output)"
   ]
  },
  {
   "cell_type": "code",
   "execution_count": 175,
   "metadata": {},
   "outputs": [
    {
     "name": "stdout",
     "output_type": "stream",
     "text": [
      "    Actual  Predicted\n",
      "28      91         92\n",
      "11      86         82\n",
      "10      93         90\n",
      "41      90         79\n",
      "2       85         90\n",
      "27      89         95\n",
      "38      80         79\n",
      "31      89         95\n",
      "22      83         82\n",
      "4       94         90\n"
     ]
    },
    {
     "name": "stderr",
     "output_type": "stream",
     "text": [
      "C:\\Users\\Administrator\\AppData\\Roaming\\Python\\Python37\\site-packages\\sklearn\\svm\\base.py:929: ConvergenceWarning: Liblinear failed to converge, increase the number of iterations.\n",
      "  \"the number of iterations.\", ConvergenceWarning)\n"
     ]
    }
   ],
   "source": [
    "# Linear SVM model \n",
    "LinSVC = LinearSVC(penalty='l2', loss='squared_hinge', dual=True)\n",
    "LinSVC.fit(x_train, y_train)\n",
    "y_pred=LinSVC.predict(x_test)\n",
    "df_output = pd.DataFrame({'Actual': y_test, 'Predicted': y_pred})\n",
    "print(df_output)"
   ]
  },
  {
   "cell_type": "code",
   "execution_count": null,
   "metadata": {},
   "outputs": [],
   "source": []
  }
 ],
 "metadata": {
  "kernelspec": {
   "display_name": "Python 3",
   "language": "python",
   "name": "python3"
  },
  "language_info": {
   "codemirror_mode": {
    "name": "ipython",
    "version": 3
   },
   "file_extension": ".py",
   "mimetype": "text/x-python",
   "name": "python",
   "nbconvert_exporter": "python",
   "pygments_lexer": "ipython3",
   "version": "3.7.3"
  }
 },
 "nbformat": 4,
 "nbformat_minor": 2
}
