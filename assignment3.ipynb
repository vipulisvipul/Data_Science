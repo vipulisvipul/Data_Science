{
 "cells": [
  {
   "cell_type": "code",
   "execution_count": 2,
   "metadata": {},
   "outputs": [],
   "source": [
    "import pandas as pd\n",
    "import numpy as np\n",
    "import re"
   ]
  },
  {
   "cell_type": "code",
   "execution_count": 3,
   "metadata": {},
   "outputs": [],
   "source": [
    "traffic=pd.read_excel('C:/Users/Administrator/Desktop/assignment file.xlsx')"
   ]
  },
  {
   "cell_type": "code",
   "execution_count": 4,
   "metadata": {},
   "outputs": [
    {
     "data": {
      "text/html": [
       "<div>\n",
       "<style scoped>\n",
       "    .dataframe tbody tr th:only-of-type {\n",
       "        vertical-align: middle;\n",
       "    }\n",
       "\n",
       "    .dataframe tbody tr th {\n",
       "        vertical-align: top;\n",
       "    }\n",
       "\n",
       "    .dataframe thead th {\n",
       "        text-align: right;\n",
       "    }\n",
       "</style>\n",
       "<table border=\"1\" class=\"dataframe\">\n",
       "  <thead>\n",
       "    <tr style=\"text-align: right;\">\n",
       "      <th></th>\n",
       "      <th>Serial number</th>\n",
       "      <th>Age (yrs)</th>\n",
       "      <th>Gender</th>\n",
       "      <th>Occupation</th>\n",
       "      <th>Site of death</th>\n",
       "      <th>Time of death</th>\n",
       "      <th>Alco,Drug etc</th>\n",
       "      <th>Use of helmet</th>\n",
       "      <th>Type of vehicle</th>\n",
       "      <th>Period of coma (hrs)</th>\n",
       "      <th>Person died</th>\n",
       "    </tr>\n",
       "  </thead>\n",
       "  <tbody>\n",
       "    <tr>\n",
       "      <th>0</th>\n",
       "      <td>1</td>\n",
       "      <td>24</td>\n",
       "      <td>Male</td>\n",
       "      <td>Bussinesman</td>\n",
       "      <td>On the way</td>\n",
       "      <td>After 1 hour</td>\n",
       "      <td>Yes</td>\n",
       "      <td>No</td>\n",
       "      <td>Scooter</td>\n",
       "      <td>1.0</td>\n",
       "      <td>Rider</td>\n",
       "    </tr>\n",
       "    <tr>\n",
       "      <th>1</th>\n",
       "      <td>2</td>\n",
       "      <td>63</td>\n",
       "      <td>Male</td>\n",
       "      <td>Retired Person</td>\n",
       "      <td>Hospital</td>\n",
       "      <td>After 120  hours</td>\n",
       "      <td>Yes</td>\n",
       "      <td>No</td>\n",
       "      <td>Scooty</td>\n",
       "      <td>120.0</td>\n",
       "      <td>Rider</td>\n",
       "    </tr>\n",
       "    <tr>\n",
       "      <th>2</th>\n",
       "      <td>3</td>\n",
       "      <td>23</td>\n",
       "      <td>Female</td>\n",
       "      <td>Student</td>\n",
       "      <td>Spot</td>\n",
       "      <td>Immediately</td>\n",
       "      <td>Yes</td>\n",
       "      <td>No</td>\n",
       "      <td>Scooter</td>\n",
       "      <td>NaN</td>\n",
       "      <td>Pillion</td>\n",
       "    </tr>\n",
       "    <tr>\n",
       "      <th>3</th>\n",
       "      <td>4</td>\n",
       "      <td>41</td>\n",
       "      <td>Female</td>\n",
       "      <td>Student</td>\n",
       "      <td>Hospital</td>\n",
       "      <td>After 144  hours</td>\n",
       "      <td>Yes</td>\n",
       "      <td>Na</td>\n",
       "      <td>Kinetic Honda</td>\n",
       "      <td>144.0</td>\n",
       "      <td>Rider</td>\n",
       "    </tr>\n",
       "    <tr>\n",
       "      <th>4</th>\n",
       "      <td>5</td>\n",
       "      <td>25</td>\n",
       "      <td>Male</td>\n",
       "      <td>Employee</td>\n",
       "      <td>Hospital</td>\n",
       "      <td>After 192  hours</td>\n",
       "      <td>Yes</td>\n",
       "      <td>Yes</td>\n",
       "      <td>RX 100</td>\n",
       "      <td>192.0</td>\n",
       "      <td>Rider</td>\n",
       "    </tr>\n",
       "    <tr>\n",
       "      <th>5</th>\n",
       "      <td>6</td>\n",
       "      <td>61</td>\n",
       "      <td>Male</td>\n",
       "      <td>Retired Person</td>\n",
       "      <td>Spot</td>\n",
       "      <td>Immediately</td>\n",
       "      <td>No</td>\n",
       "      <td>No</td>\n",
       "      <td>Scooter</td>\n",
       "      <td>NaN</td>\n",
       "      <td>Rider</td>\n",
       "    </tr>\n",
       "    <tr>\n",
       "      <th>6</th>\n",
       "      <td>7</td>\n",
       "      <td>35</td>\n",
       "      <td>Male</td>\n",
       "      <td>Bussinesman</td>\n",
       "      <td>Spot</td>\n",
       "      <td>Immediately</td>\n",
       "      <td>No</td>\n",
       "      <td>No</td>\n",
       "      <td>Hero Honda</td>\n",
       "      <td>NaN</td>\n",
       "      <td>Rider</td>\n",
       "    </tr>\n",
       "    <tr>\n",
       "      <th>7</th>\n",
       "      <td>8</td>\n",
       "      <td>27</td>\n",
       "      <td>Male</td>\n",
       "      <td>Bussinesman</td>\n",
       "      <td>Hospital</td>\n",
       "      <td>Immediately</td>\n",
       "      <td>Yes</td>\n",
       "      <td>No</td>\n",
       "      <td>Scooter</td>\n",
       "      <td>NaN</td>\n",
       "      <td>Rider</td>\n",
       "    </tr>\n",
       "    <tr>\n",
       "      <th>8</th>\n",
       "      <td>9</td>\n",
       "      <td>38</td>\n",
       "      <td>Male</td>\n",
       "      <td>Bussinesman</td>\n",
       "      <td>Spot</td>\n",
       "      <td>Immediately</td>\n",
       "      <td>No</td>\n",
       "      <td>No</td>\n",
       "      <td>Scooter</td>\n",
       "      <td>NaN</td>\n",
       "      <td>Rider</td>\n",
       "    </tr>\n",
       "    <tr>\n",
       "      <th>9</th>\n",
       "      <td>10</td>\n",
       "      <td>48</td>\n",
       "      <td>Male</td>\n",
       "      <td>Bussinesman</td>\n",
       "      <td>Hospital</td>\n",
       "      <td>After 2  hours</td>\n",
       "      <td>No</td>\n",
       "      <td>No</td>\n",
       "      <td>Kinetic Honda</td>\n",
       "      <td>2.0</td>\n",
       "      <td>Rider</td>\n",
       "    </tr>\n",
       "    <tr>\n",
       "      <th>10</th>\n",
       "      <td>11</td>\n",
       "      <td>40</td>\n",
       "      <td>Male</td>\n",
       "      <td>Student</td>\n",
       "      <td>Hospital</td>\n",
       "      <td>After 236  hours</td>\n",
       "      <td>No</td>\n",
       "      <td>No</td>\n",
       "      <td>RX 100</td>\n",
       "      <td>236.0</td>\n",
       "      <td>Rider</td>\n",
       "    </tr>\n",
       "    <tr>\n",
       "      <th>11</th>\n",
       "      <td>12</td>\n",
       "      <td>45</td>\n",
       "      <td>Male</td>\n",
       "      <td>Bussinesman</td>\n",
       "      <td>Hospital</td>\n",
       "      <td>After 240  hours</td>\n",
       "      <td>No</td>\n",
       "      <td>No</td>\n",
       "      <td>TVS Suzuki</td>\n",
       "      <td>240.0</td>\n",
       "      <td>Rider</td>\n",
       "    </tr>\n",
       "    <tr>\n",
       "      <th>12</th>\n",
       "      <td>13</td>\n",
       "      <td>30</td>\n",
       "      <td>Male</td>\n",
       "      <td>Bussinesman</td>\n",
       "      <td>Spot</td>\n",
       "      <td>Immediately</td>\n",
       "      <td>Yes</td>\n",
       "      <td>Na</td>\n",
       "      <td>Yezdi</td>\n",
       "      <td>NaN</td>\n",
       "      <td>Rider</td>\n",
       "    </tr>\n",
       "    <tr>\n",
       "      <th>13</th>\n",
       "      <td>14</td>\n",
       "      <td>57</td>\n",
       "      <td>Male</td>\n",
       "      <td>Advocate</td>\n",
       "      <td>Hospital</td>\n",
       "      <td>After 260  hours</td>\n",
       "      <td>No</td>\n",
       "      <td>Na</td>\n",
       "      <td>Scooter</td>\n",
       "      <td>360.0</td>\n",
       "      <td>Rider</td>\n",
       "    </tr>\n",
       "    <tr>\n",
       "      <th>14</th>\n",
       "      <td>15</td>\n",
       "      <td>22</td>\n",
       "      <td>Male</td>\n",
       "      <td>Student</td>\n",
       "      <td>Hospital</td>\n",
       "      <td>After 284  hours</td>\n",
       "      <td>Yes</td>\n",
       "      <td>No</td>\n",
       "      <td>TVS 50</td>\n",
       "      <td>384.0</td>\n",
       "      <td>Pillion</td>\n",
       "    </tr>\n",
       "    <tr>\n",
       "      <th>15</th>\n",
       "      <td>16</td>\n",
       "      <td>39</td>\n",
       "      <td>Female</td>\n",
       "      <td>Retired Person</td>\n",
       "      <td>Hospital</td>\n",
       "      <td>After 3  hours</td>\n",
       "      <td>No</td>\n",
       "      <td>Yes</td>\n",
       "      <td>RX 100</td>\n",
       "      <td>3.0</td>\n",
       "      <td>Rider</td>\n",
       "    </tr>\n",
       "    <tr>\n",
       "      <th>16</th>\n",
       "      <td>17</td>\n",
       "      <td>58</td>\n",
       "      <td>Male</td>\n",
       "      <td>Polic constable</td>\n",
       "      <td>Spot</td>\n",
       "      <td>Immediately</td>\n",
       "      <td>Yes</td>\n",
       "      <td>No</td>\n",
       "      <td>Scooter</td>\n",
       "      <td>NaN</td>\n",
       "      <td>Rider</td>\n",
       "    </tr>\n",
       "    <tr>\n",
       "      <th>17</th>\n",
       "      <td>18</td>\n",
       "      <td>25</td>\n",
       "      <td>Male</td>\n",
       "      <td>Student</td>\n",
       "      <td>Hospital</td>\n",
       "      <td>After 36  hours</td>\n",
       "      <td>No</td>\n",
       "      <td>Na</td>\n",
       "      <td>RX 100</td>\n",
       "      <td>36.0</td>\n",
       "      <td>Rider</td>\n",
       "    </tr>\n",
       "    <tr>\n",
       "      <th>18</th>\n",
       "      <td>19</td>\n",
       "      <td>6</td>\n",
       "      <td>Male</td>\n",
       "      <td>Student</td>\n",
       "      <td>On the way</td>\n",
       "      <td>Immediately</td>\n",
       "      <td>No</td>\n",
       "      <td>Na</td>\n",
       "      <td>RX 100</td>\n",
       "      <td>NaN</td>\n",
       "      <td>Pillion</td>\n",
       "    </tr>\n",
       "    <tr>\n",
       "      <th>19</th>\n",
       "      <td>20</td>\n",
       "      <td>19</td>\n",
       "      <td>Female</td>\n",
       "      <td>Watchman</td>\n",
       "      <td>Hospital</td>\n",
       "      <td>After 5  hours</td>\n",
       "      <td>Yes</td>\n",
       "      <td>No</td>\n",
       "      <td>Kinetic Honda</td>\n",
       "      <td>5.0</td>\n",
       "      <td>Rider</td>\n",
       "    </tr>\n",
       "    <tr>\n",
       "      <th>20</th>\n",
       "      <td>21</td>\n",
       "      <td>5</td>\n",
       "      <td>Male</td>\n",
       "      <td>Student</td>\n",
       "      <td>Hospital</td>\n",
       "      <td>After 5  hours</td>\n",
       "      <td>No</td>\n",
       "      <td>Na</td>\n",
       "      <td>RX 100</td>\n",
       "      <td>5.0</td>\n",
       "      <td>Pillion</td>\n",
       "    </tr>\n",
       "    <tr>\n",
       "      <th>21</th>\n",
       "      <td>22</td>\n",
       "      <td>8</td>\n",
       "      <td>Male</td>\n",
       "      <td>Student</td>\n",
       "      <td>Hospital</td>\n",
       "      <td>After 5  hours</td>\n",
       "      <td>No</td>\n",
       "      <td>Na</td>\n",
       "      <td>RX 100</td>\n",
       "      <td>5.0</td>\n",
       "      <td>Pillion</td>\n",
       "    </tr>\n",
       "    <tr>\n",
       "      <th>22</th>\n",
       "      <td>23</td>\n",
       "      <td>38</td>\n",
       "      <td>Male</td>\n",
       "      <td>Student</td>\n",
       "      <td>Hospital</td>\n",
       "      <td>After 6  hours</td>\n",
       "      <td>No</td>\n",
       "      <td>No</td>\n",
       "      <td>Kinetic Honda</td>\n",
       "      <td>6.0</td>\n",
       "      <td>Rider</td>\n",
       "    </tr>\n",
       "    <tr>\n",
       "      <th>23</th>\n",
       "      <td>24</td>\n",
       "      <td>22</td>\n",
       "      <td>Male</td>\n",
       "      <td>Student</td>\n",
       "      <td>Hospital</td>\n",
       "      <td>After 72  hours</td>\n",
       "      <td>No</td>\n",
       "      <td>No</td>\n",
       "      <td>TVS Suzuki</td>\n",
       "      <td>72.0</td>\n",
       "      <td>Rider</td>\n",
       "    </tr>\n",
       "    <tr>\n",
       "      <th>24</th>\n",
       "      <td>25</td>\n",
       "      <td>26</td>\n",
       "      <td>Male</td>\n",
       "      <td>Watchman</td>\n",
       "      <td>Spot</td>\n",
       "      <td>Immediately</td>\n",
       "      <td>Yes</td>\n",
       "      <td>Na</td>\n",
       "      <td>Scooter</td>\n",
       "      <td>NaN</td>\n",
       "      <td>Rider</td>\n",
       "    </tr>\n",
       "    <tr>\n",
       "      <th>25</th>\n",
       "      <td>26</td>\n",
       "      <td>21</td>\n",
       "      <td>Male</td>\n",
       "      <td>Bussinesman</td>\n",
       "      <td>Hospital</td>\n",
       "      <td>After 72  hours</td>\n",
       "      <td>Yes</td>\n",
       "      <td>No</td>\n",
       "      <td>Kinetic Honda</td>\n",
       "      <td>72.0</td>\n",
       "      <td>Rider</td>\n",
       "    </tr>\n",
       "    <tr>\n",
       "      <th>26</th>\n",
       "      <td>27</td>\n",
       "      <td>17</td>\n",
       "      <td>Female</td>\n",
       "      <td>Carpenter</td>\n",
       "      <td>Spot</td>\n",
       "      <td>Immediately</td>\n",
       "      <td>Yes</td>\n",
       "      <td>No</td>\n",
       "      <td>TVS 50</td>\n",
       "      <td>NaN</td>\n",
       "      <td>Pillion</td>\n",
       "    </tr>\n",
       "    <tr>\n",
       "      <th>27</th>\n",
       "      <td>28</td>\n",
       "      <td>54</td>\n",
       "      <td>Male</td>\n",
       "      <td>Priest</td>\n",
       "      <td>Hospital</td>\n",
       "      <td>After 72  hours</td>\n",
       "      <td>No</td>\n",
       "      <td>Na</td>\n",
       "      <td>Scooter</td>\n",
       "      <td>72.0</td>\n",
       "      <td>Pillion</td>\n",
       "    </tr>\n",
       "    <tr>\n",
       "      <th>28</th>\n",
       "      <td>29</td>\n",
       "      <td>32</td>\n",
       "      <td>Male</td>\n",
       "      <td>Bussinesman</td>\n",
       "      <td>Hospital</td>\n",
       "      <td>After 96  hours</td>\n",
       "      <td>No</td>\n",
       "      <td>No</td>\n",
       "      <td>RX 100</td>\n",
       "      <td>96.0</td>\n",
       "      <td>Rider</td>\n",
       "    </tr>\n",
       "    <tr>\n",
       "      <th>29</th>\n",
       "      <td>30</td>\n",
       "      <td>34</td>\n",
       "      <td>Female</td>\n",
       "      <td>Student</td>\n",
       "      <td>Spot</td>\n",
       "      <td>Immediately</td>\n",
       "      <td>Yes</td>\n",
       "      <td>No</td>\n",
       "      <td>TVS 50</td>\n",
       "      <td>NaN</td>\n",
       "      <td>Rider with Pillion</td>\n",
       "    </tr>\n",
       "    <tr>\n",
       "      <th>30</th>\n",
       "      <td>31</td>\n",
       "      <td>21</td>\n",
       "      <td>Male</td>\n",
       "      <td>Bussinesman</td>\n",
       "      <td>Hospital</td>\n",
       "      <td>After 72  hours</td>\n",
       "      <td>No</td>\n",
       "      <td>No</td>\n",
       "      <td>Hero Honda</td>\n",
       "      <td>72.0</td>\n",
       "      <td>Rider</td>\n",
       "    </tr>\n",
       "    <tr>\n",
       "      <th>31</th>\n",
       "      <td>32</td>\n",
       "      <td>39</td>\n",
       "      <td>Male</td>\n",
       "      <td>Bussinesman</td>\n",
       "      <td>Hospital</td>\n",
       "      <td>After 3  hours</td>\n",
       "      <td>No</td>\n",
       "      <td>No</td>\n",
       "      <td>Scooter</td>\n",
       "      <td>3.0</td>\n",
       "      <td>Rider</td>\n",
       "    </tr>\n",
       "    <tr>\n",
       "      <th>32</th>\n",
       "      <td>33</td>\n",
       "      <td>31</td>\n",
       "      <td>Female</td>\n",
       "      <td>Bussinesman</td>\n",
       "      <td>Hospital</td>\n",
       "      <td>After 72  hours</td>\n",
       "      <td>No</td>\n",
       "      <td>No</td>\n",
       "      <td>RX 100</td>\n",
       "      <td>72.0</td>\n",
       "      <td>Rider</td>\n",
       "    </tr>\n",
       "    <tr>\n",
       "      <th>33</th>\n",
       "      <td>34</td>\n",
       "      <td>33</td>\n",
       "      <td>Male</td>\n",
       "      <td>Student</td>\n",
       "      <td>Spot</td>\n",
       "      <td>Immediately</td>\n",
       "      <td>No</td>\n",
       "      <td>No</td>\n",
       "      <td>Hero Honda</td>\n",
       "      <td>NaN</td>\n",
       "      <td>Rider</td>\n",
       "    </tr>\n",
       "    <tr>\n",
       "      <th>34</th>\n",
       "      <td>35</td>\n",
       "      <td>38</td>\n",
       "      <td>Male</td>\n",
       "      <td>Bussinesman</td>\n",
       "      <td>Spot</td>\n",
       "      <td>Immediately</td>\n",
       "      <td>No</td>\n",
       "      <td>No</td>\n",
       "      <td>TVS 50</td>\n",
       "      <td>NaN</td>\n",
       "      <td>Rider</td>\n",
       "    </tr>\n",
       "    <tr>\n",
       "      <th>35</th>\n",
       "      <td>36</td>\n",
       "      <td>12</td>\n",
       "      <td>Male</td>\n",
       "      <td>Rag picker</td>\n",
       "      <td>On the way</td>\n",
       "      <td>Immediately</td>\n",
       "      <td>Yes</td>\n",
       "      <td>No</td>\n",
       "      <td>Kinetic Honda</td>\n",
       "      <td>NaN</td>\n",
       "      <td>Pillion</td>\n",
       "    </tr>\n",
       "    <tr>\n",
       "      <th>36</th>\n",
       "      <td>37</td>\n",
       "      <td>18</td>\n",
       "      <td>Male</td>\n",
       "      <td>Bussinesman</td>\n",
       "      <td>Spot</td>\n",
       "      <td>Immediately</td>\n",
       "      <td>Yes</td>\n",
       "      <td>No</td>\n",
       "      <td>Hero Honda</td>\n",
       "      <td>NaN</td>\n",
       "      <td>Rider</td>\n",
       "    </tr>\n",
       "    <tr>\n",
       "      <th>37</th>\n",
       "      <td>38</td>\n",
       "      <td>23</td>\n",
       "      <td>Male</td>\n",
       "      <td>Student</td>\n",
       "      <td>Spot</td>\n",
       "      <td>Immediately</td>\n",
       "      <td>No</td>\n",
       "      <td>No</td>\n",
       "      <td>TVS 50</td>\n",
       "      <td>NaN</td>\n",
       "      <td>Pillion</td>\n",
       "    </tr>\n",
       "    <tr>\n",
       "      <th>38</th>\n",
       "      <td>39</td>\n",
       "      <td>72</td>\n",
       "      <td>Male</td>\n",
       "      <td>Retired Person</td>\n",
       "      <td>Hospital</td>\n",
       "      <td>After 48  hours</td>\n",
       "      <td>Yes</td>\n",
       "      <td>No</td>\n",
       "      <td>Hero Honda</td>\n",
       "      <td>48.0</td>\n",
       "      <td>Rider</td>\n",
       "    </tr>\n",
       "    <tr>\n",
       "      <th>39</th>\n",
       "      <td>40</td>\n",
       "      <td>12</td>\n",
       "      <td>Male</td>\n",
       "      <td>Mechanic</td>\n",
       "      <td>Hospital</td>\n",
       "      <td>After 240  hours</td>\n",
       "      <td>No</td>\n",
       "      <td>No</td>\n",
       "      <td>Scooter</td>\n",
       "      <td>240.0</td>\n",
       "      <td>Pillion</td>\n",
       "    </tr>\n",
       "    <tr>\n",
       "      <th>40</th>\n",
       "      <td>41</td>\n",
       "      <td>42</td>\n",
       "      <td>Male</td>\n",
       "      <td>Bussinesman</td>\n",
       "      <td>Hospital</td>\n",
       "      <td>After 144  hours</td>\n",
       "      <td>No</td>\n",
       "      <td>No</td>\n",
       "      <td>RX 100</td>\n",
       "      <td>144.0</td>\n",
       "      <td>Rider</td>\n",
       "    </tr>\n",
       "    <tr>\n",
       "      <th>41</th>\n",
       "      <td>42</td>\n",
       "      <td>35</td>\n",
       "      <td>Male</td>\n",
       "      <td>Employee</td>\n",
       "      <td>Spot</td>\n",
       "      <td>Immediately</td>\n",
       "      <td>No</td>\n",
       "      <td>Yes</td>\n",
       "      <td>Scooter</td>\n",
       "      <td>NaN</td>\n",
       "      <td>Rider</td>\n",
       "    </tr>\n",
       "    <tr>\n",
       "      <th>42</th>\n",
       "      <td>43</td>\n",
       "      <td>19</td>\n",
       "      <td>Female</td>\n",
       "      <td>Employee</td>\n",
       "      <td>Spot</td>\n",
       "      <td>Immediately</td>\n",
       "      <td>Yes</td>\n",
       "      <td>No</td>\n",
       "      <td>Scooter</td>\n",
       "      <td>NaN</td>\n",
       "      <td>Rider</td>\n",
       "    </tr>\n",
       "    <tr>\n",
       "      <th>43</th>\n",
       "      <td>44</td>\n",
       "      <td>32</td>\n",
       "      <td>Male</td>\n",
       "      <td>Employee</td>\n",
       "      <td>On the way</td>\n",
       "      <td>Immediately</td>\n",
       "      <td>Yes</td>\n",
       "      <td>No</td>\n",
       "      <td>Scooter</td>\n",
       "      <td>NaN</td>\n",
       "      <td>Pillion</td>\n",
       "    </tr>\n",
       "    <tr>\n",
       "      <th>44</th>\n",
       "      <td>45</td>\n",
       "      <td>45</td>\n",
       "      <td>Female</td>\n",
       "      <td>House Wife</td>\n",
       "      <td>Spot</td>\n",
       "      <td>Immediately</td>\n",
       "      <td>No</td>\n",
       "      <td>Na</td>\n",
       "      <td>RX 100</td>\n",
       "      <td>NaN</td>\n",
       "      <td>Pillion</td>\n",
       "    </tr>\n",
       "    <tr>\n",
       "      <th>45</th>\n",
       "      <td>46</td>\n",
       "      <td>32</td>\n",
       "      <td>Male</td>\n",
       "      <td>Student</td>\n",
       "      <td>Spot</td>\n",
       "      <td>Immediately</td>\n",
       "      <td>Yes</td>\n",
       "      <td>No</td>\n",
       "      <td>RX 100</td>\n",
       "      <td>NaN</td>\n",
       "      <td>Rider</td>\n",
       "    </tr>\n",
       "    <tr>\n",
       "      <th>46</th>\n",
       "      <td>47</td>\n",
       "      <td>42</td>\n",
       "      <td>Male</td>\n",
       "      <td>Employee</td>\n",
       "      <td>Spot</td>\n",
       "      <td>Immediately</td>\n",
       "      <td>Yes</td>\n",
       "      <td>No</td>\n",
       "      <td>Scooty</td>\n",
       "      <td>NaN</td>\n",
       "      <td>Rider</td>\n",
       "    </tr>\n",
       "    <tr>\n",
       "      <th>47</th>\n",
       "      <td>48</td>\n",
       "      <td>23</td>\n",
       "      <td>Male</td>\n",
       "      <td>Mechanic</td>\n",
       "      <td>Spot</td>\n",
       "      <td>Immediately</td>\n",
       "      <td>Yes</td>\n",
       "      <td>No</td>\n",
       "      <td>Scooter</td>\n",
       "      <td>NaN</td>\n",
       "      <td>Rider</td>\n",
       "    </tr>\n",
       "    <tr>\n",
       "      <th>48</th>\n",
       "      <td>49</td>\n",
       "      <td>5</td>\n",
       "      <td>Female</td>\n",
       "      <td>Student</td>\n",
       "      <td>On the way</td>\n",
       "      <td>Immediately</td>\n",
       "      <td>No</td>\n",
       "      <td>No</td>\n",
       "      <td>RX 100</td>\n",
       "      <td>NaN</td>\n",
       "      <td>Pillion</td>\n",
       "    </tr>\n",
       "    <tr>\n",
       "      <th>49</th>\n",
       "      <td>50</td>\n",
       "      <td>25</td>\n",
       "      <td>Male</td>\n",
       "      <td>Student</td>\n",
       "      <td>On the way</td>\n",
       "      <td>Immediately</td>\n",
       "      <td>Yes</td>\n",
       "      <td>No</td>\n",
       "      <td>RX 100</td>\n",
       "      <td>NaN</td>\n",
       "      <td>Rider</td>\n",
       "    </tr>\n",
       "  </tbody>\n",
       "</table>\n",
       "</div>"
      ],
      "text/plain": [
       "    Serial number  Age (yrs)  Gender       Occupation Site of death  \\\n",
       "0               1         24    Male      Bussinesman    On the way   \n",
       "1               2         63    Male   Retired Person      Hospital   \n",
       "2               3         23  Female          Student          Spot   \n",
       "3               4         41  Female          Student      Hospital   \n",
       "4               5         25    Male         Employee      Hospital   \n",
       "5               6         61    Male   Retired Person          Spot   \n",
       "6               7         35    Male      Bussinesman          Spot   \n",
       "7               8         27    Male      Bussinesman      Hospital   \n",
       "8               9         38    Male      Bussinesman          Spot   \n",
       "9              10         48    Male      Bussinesman      Hospital   \n",
       "10             11         40    Male          Student      Hospital   \n",
       "11             12         45    Male      Bussinesman      Hospital   \n",
       "12             13         30    Male      Bussinesman          Spot   \n",
       "13             14         57    Male         Advocate      Hospital   \n",
       "14             15         22    Male          Student      Hospital   \n",
       "15             16         39  Female   Retired Person      Hospital   \n",
       "16             17         58    Male  Polic constable          Spot   \n",
       "17             18         25    Male          Student      Hospital   \n",
       "18             19          6    Male          Student    On the way   \n",
       "19             20         19  Female         Watchman      Hospital   \n",
       "20             21          5    Male          Student      Hospital   \n",
       "21             22          8    Male          Student      Hospital   \n",
       "22             23         38    Male          Student      Hospital   \n",
       "23             24         22    Male          Student      Hospital   \n",
       "24             25         26    Male         Watchman          Spot   \n",
       "25             26         21    Male      Bussinesman      Hospital   \n",
       "26             27         17  Female        Carpenter          Spot   \n",
       "27             28         54    Male           Priest      Hospital   \n",
       "28             29         32    Male      Bussinesman      Hospital   \n",
       "29             30         34  Female          Student          Spot   \n",
       "30             31         21    Male      Bussinesman      Hospital   \n",
       "31             32         39    Male      Bussinesman      Hospital   \n",
       "32             33         31  Female      Bussinesman      Hospital   \n",
       "33             34         33    Male          Student          Spot   \n",
       "34             35         38    Male      Bussinesman          Spot   \n",
       "35             36         12    Male       Rag picker    On the way   \n",
       "36             37         18    Male      Bussinesman          Spot   \n",
       "37             38         23    Male          Student          Spot   \n",
       "38             39         72    Male   Retired Person      Hospital   \n",
       "39             40         12    Male         Mechanic      Hospital   \n",
       "40             41         42    Male      Bussinesman      Hospital   \n",
       "41             42         35    Male         Employee          Spot   \n",
       "42             43         19  Female         Employee          Spot   \n",
       "43             44         32    Male         Employee    On the way   \n",
       "44             45         45  Female       House Wife          Spot   \n",
       "45             46         32    Male          Student          Spot   \n",
       "46             47         42    Male         Employee          Spot   \n",
       "47             48         23    Male         Mechanic          Spot   \n",
       "48             49          5  Female          Student    On the way   \n",
       "49             50         25    Male          Student    On the way   \n",
       "\n",
       "       Time of death Alco,Drug etc Use of helmet Type of vehicle  \\\n",
       "0       After 1 hour           Yes            No         Scooter   \n",
       "1   After 120  hours           Yes            No          Scooty   \n",
       "2        Immediately           Yes            No         Scooter   \n",
       "3   After 144  hours           Yes            Na   Kinetic Honda   \n",
       "4   After 192  hours           Yes           Yes          RX 100   \n",
       "5        Immediately            No            No         Scooter   \n",
       "6        Immediately            No            No      Hero Honda   \n",
       "7        Immediately           Yes            No         Scooter   \n",
       "8        Immediately            No            No         Scooter   \n",
       "9     After 2  hours            No            No   Kinetic Honda   \n",
       "10  After 236  hours            No            No          RX 100   \n",
       "11  After 240  hours            No            No      TVS Suzuki   \n",
       "12       Immediately           Yes            Na           Yezdi   \n",
       "13  After 260  hours            No            Na         Scooter   \n",
       "14  After 284  hours           Yes            No          TVS 50   \n",
       "15    After 3  hours            No           Yes          RX 100   \n",
       "16       Immediately           Yes            No         Scooter   \n",
       "17   After 36  hours            No            Na          RX 100   \n",
       "18       Immediately            No            Na          RX 100   \n",
       "19    After 5  hours           Yes            No   Kinetic Honda   \n",
       "20    After 5  hours            No            Na          RX 100   \n",
       "21    After 5  hours            No            Na          RX 100   \n",
       "22    After 6  hours            No            No   Kinetic Honda   \n",
       "23   After 72  hours            No            No      TVS Suzuki   \n",
       "24       Immediately           Yes            Na         Scooter   \n",
       "25   After 72  hours           Yes            No   Kinetic Honda   \n",
       "26       Immediately           Yes            No          TVS 50   \n",
       "27   After 72  hours            No            Na         Scooter   \n",
       "28   After 96  hours            No            No          RX 100   \n",
       "29       Immediately           Yes            No          TVS 50   \n",
       "30   After 72  hours            No            No      Hero Honda   \n",
       "31    After 3  hours            No            No         Scooter   \n",
       "32   After 72  hours            No            No          RX 100   \n",
       "33       Immediately            No            No      Hero Honda   \n",
       "34       Immediately            No            No          TVS 50   \n",
       "35       Immediately           Yes            No   Kinetic Honda   \n",
       "36       Immediately           Yes            No      Hero Honda   \n",
       "37       Immediately            No            No          TVS 50   \n",
       "38   After 48  hours           Yes            No      Hero Honda   \n",
       "39  After 240  hours            No            No         Scooter   \n",
       "40  After 144  hours            No            No          RX 100   \n",
       "41       Immediately            No           Yes         Scooter   \n",
       "42       Immediately           Yes            No         Scooter   \n",
       "43       Immediately           Yes            No         Scooter   \n",
       "44       Immediately            No            Na          RX 100   \n",
       "45       Immediately           Yes            No          RX 100   \n",
       "46       Immediately           Yes            No          Scooty   \n",
       "47       Immediately           Yes            No         Scooter   \n",
       "48       Immediately            No            No          RX 100   \n",
       "49       Immediately           Yes            No          RX 100   \n",
       "\n",
       "    Period of coma (hrs)         Person died  \n",
       "0                    1.0               Rider  \n",
       "1                  120.0               Rider  \n",
       "2                    NaN             Pillion  \n",
       "3                  144.0               Rider  \n",
       "4                  192.0               Rider  \n",
       "5                    NaN               Rider  \n",
       "6                    NaN               Rider  \n",
       "7                    NaN               Rider  \n",
       "8                    NaN               Rider  \n",
       "9                    2.0               Rider  \n",
       "10                 236.0               Rider  \n",
       "11                 240.0               Rider  \n",
       "12                   NaN               Rider  \n",
       "13                 360.0               Rider  \n",
       "14                 384.0             Pillion  \n",
       "15                   3.0               Rider  \n",
       "16                   NaN               Rider  \n",
       "17                  36.0               Rider  \n",
       "18                   NaN             Pillion  \n",
       "19                   5.0               Rider  \n",
       "20                   5.0             Pillion  \n",
       "21                   5.0             Pillion  \n",
       "22                   6.0               Rider  \n",
       "23                  72.0               Rider  \n",
       "24                   NaN               Rider  \n",
       "25                  72.0               Rider  \n",
       "26                   NaN             Pillion  \n",
       "27                  72.0             Pillion  \n",
       "28                  96.0               Rider  \n",
       "29                   NaN  Rider with Pillion  \n",
       "30                  72.0               Rider  \n",
       "31                   3.0               Rider  \n",
       "32                  72.0               Rider  \n",
       "33                   NaN               Rider  \n",
       "34                   NaN               Rider  \n",
       "35                   NaN             Pillion  \n",
       "36                   NaN               Rider  \n",
       "37                   NaN             Pillion  \n",
       "38                  48.0               Rider  \n",
       "39                 240.0             Pillion  \n",
       "40                 144.0               Rider  \n",
       "41                   NaN               Rider  \n",
       "42                   NaN               Rider  \n",
       "43                   NaN             Pillion  \n",
       "44                   NaN             Pillion  \n",
       "45                   NaN               Rider  \n",
       "46                   NaN               Rider  \n",
       "47                   NaN               Rider  \n",
       "48                   NaN             Pillion  \n",
       "49                   NaN               Rider  "
      ]
     },
     "execution_count": 4,
     "metadata": {},
     "output_type": "execute_result"
    }
   ],
   "source": [
    "traffic"
   ]
  },
  {
   "cell_type": "markdown",
   "metadata": {},
   "source": [
    "#### 1) How many children (<= 18 years) have died in the accident and how many of them are males and females?"
   ]
  },
  {
   "cell_type": "code",
   "execution_count": 5,
   "metadata": {},
   "outputs": [
    {
     "data": {
      "text/plain": [
       "Male      6\n",
       "Female    2\n",
       "Name: Gender, dtype: int64"
      ]
     },
     "execution_count": 5,
     "metadata": {},
     "output_type": "execute_result"
    }
   ],
   "source": [
    "traffic[traffic['Age (yrs)']<=18]['Gender'].value_counts()"
   ]
  },
  {
   "cell_type": "markdown",
   "metadata": {},
   "source": [
    "#### 2) How many children had taken alcohol? Were they riders or pillion when they died?"
   ]
  },
  {
   "cell_type": "code",
   "execution_count": 6,
   "metadata": {},
   "outputs": [
    {
     "data": {
      "text/plain": [
       "Pillion    2\n",
       "Rider      1\n",
       "Name: Person died, dtype: int64"
      ]
     },
     "execution_count": 6,
     "metadata": {},
     "output_type": "execute_result"
    }
   ],
   "source": [
    "traffic[(traffic['Age (yrs)']<=18) & (traffic['Alco,Drug etc']=='Yes')]['Person died'].value_counts()"
   ]
  },
  {
   "cell_type": "markdown",
   "metadata": {},
   "source": [
    "#### 3) How many children have died immediately in the accident as pillion riders who had consumed alcolhol?"
   ]
  },
  {
   "cell_type": "code",
   "execution_count": 7,
   "metadata": {},
   "outputs": [
    {
     "data": {
      "text/plain": [
       "Immediately    2\n",
       "Name: Time of death, dtype: int64"
      ]
     },
     "execution_count": 7,
     "metadata": {},
     "output_type": "execute_result"
    }
   ],
   "source": [
    "traffic[(traffic['Age (yrs)']<=18) & (traffic['Alco,Drug etc']=='Yes')&(traffic['Person died']=='Pillion')]['Time of death'].value_counts()"
   ]
  },
  {
   "cell_type": "markdown",
   "metadata": {},
   "source": [
    "#### 4) How many have died under the influence of alcohol/drug and without wearing helmet?"
   ]
  },
  {
   "cell_type": "code",
   "execution_count": 8,
   "metadata": {},
   "outputs": [
    {
     "data": {
      "text/plain": [
       "19"
      ]
     },
     "execution_count": 8,
     "metadata": {},
     "output_type": "execute_result"
    }
   ],
   "source": [
    "traffic[(traffic['Alco,Drug etc']=='Yes')&(traffic['Use of helmet']=='No')]['Serial number'].count()"
   ]
  },
  {
   "cell_type": "markdown",
   "metadata": {},
   "source": [
    "#### 5) How many of them have died between the age group of 31 - 40 years inspite of wearing helmet?"
   ]
  },
  {
   "cell_type": "code",
   "execution_count": 9,
   "metadata": {},
   "outputs": [
    {
     "data": {
      "text/plain": [
       "2"
      ]
     },
     "execution_count": 9,
     "metadata": {},
     "output_type": "execute_result"
    }
   ],
   "source": [
    "c=list(range(31,41))\n",
    "traffic[(traffic['Age (yrs)'].isin(c))&(traffic['Use of helmet']=='Yes')]['Serial number'].count()"
   ]
  },
  {
   "cell_type": "markdown",
   "metadata": {},
   "source": [
    "#### 6) What is the ratio of male and female who died on the spot?"
   ]
  },
  {
   "cell_type": "code",
   "execution_count": 20,
   "metadata": {},
   "outputs": [
    {
     "data": {
      "text/plain": [
       "<matplotlib.axes._subplots.AxesSubplot at 0x2a1f51f24e0>"
      ]
     },
     "execution_count": 20,
     "metadata": {},
     "output_type": "execute_result"
    },
    {
     "data": {
      "image/png": "[encoded data removed]",
      "text/plain": [
       "<Figure size 432x288 with 1 Axes>"
      ]
     },
     "metadata": {},
     "output_type": "display_data"
    }
   ],
   "source": [
    "traffic[traffic['Site of death']=='Spot']['Gender'].value_counts().plot(kind='pie',autopct='%.2f%%',pctdistance=0.7)\n",
    "# pie chart"
   ]
  },
  {
   "cell_type": "markdown",
   "metadata": {},
   "source": [
    "#### 7) Whai is the medianal survival time  and IQR of RTA victims who died in the hospital?"
   ]
  },
  {
   "cell_type": "code",
   "execution_count": 65,
   "metadata": {},
   "outputs": [
    {
     "data": {
      "text/plain": [
       "array([  1, 120, 144, 192,   2, 236, 240, 260, 284,   3,  36,   5,   5,\n",
       "         5,   6,  72,  72,  72,  96,  72,   3,  72,  48, 240, 144])"
      ]
     },
     "execution_count": 65,
     "metadata": {},
     "output_type": "execute_result"
    }
   ],
   "source": [
    "death=''\n",
    "for i in traffic['Time of death']:\n",
    "    death=death+i\n",
    "\n",
    "vic=re.findall('\\d{1,3}',death)\n",
    "vic1=[]\n",
    "for i in vic:\n",
    "    vic1.append(int(i))\n",
    "x=np.array(vic1)\n",
    "x\n",
    "    \n",
    "    "
   ]
  },
  {
   "cell_type": "code",
   "execution_count": 67,
   "metadata": {},
   "outputs": [
    {
     "data": {
      "text/plain": [
       "72.0"
      ]
     },
     "execution_count": 67,
     "metadata": {},
     "output_type": "execute_result"
    }
   ],
   "source": [
    "np.median(vic1)\n"
   ]
  },
  {
   "cell_type": "code",
   "execution_count": 74,
   "metadata": {},
   "outputs": [
    {
     "data": {
      "text/plain": [
       "count     25.000000\n",
       "mean      97.200000\n",
       "std       94.552014\n",
       "min        1.000000\n",
       "25%        5.000000\n",
       "50%       72.000000\n",
       "75%      144.000000\n",
       "max      284.000000\n",
       "dtype: float64"
      ]
     },
     "execution_count": 74,
     "metadata": {},
     "output_type": "execute_result"
    }
   ],
   "source": [
    "ss=pd.Series(x)\n",
    "ss.describe()\n"
   ]
  },
  {
   "cell_type": "code",
   "execution_count": 76,
   "metadata": {},
   "outputs": [
    {
     "name": "stdout",
     "output_type": "stream",
     "text": [
      "139\n"
     ]
    }
   ],
   "source": [
    "IQR=144-5\n",
    "print(IQR)"
   ]
  },
  {
   "cell_type": "markdown",
   "metadata": {},
   "source": [
    "#### 8) How many of them have died in the hospital for whom wearing of helmet details not available? Do you think these people could have wore helmet at the time of accident?"
   ]
  },
  {
   "cell_type": "code",
   "execution_count": 82,
   "metadata": {},
   "outputs": [
    {
     "data": {
      "text/plain": [
       "6"
      ]
     },
     "execution_count": 82,
     "metadata": {},
     "output_type": "execute_result"
    }
   ],
   "source": [
    "traffic[(traffic['Site of death']=='Hospital') & (traffic['Use of helmet']=='Na')]['Serial number'].count()"
   ]
  },
  {
   "cell_type": "markdown",
   "metadata": {},
   "source": [
    "#### No they cant wore helmet at the time of accident"
   ]
  },
  {
   "cell_type": "markdown",
   "metadata": {},
   "source": [
    "#### 9) What is the medianal period of coma (hrs) and IQR of RTA victims who died in the hospital?"
   ]
  },
  {
   "cell_type": "code",
   "execution_count": 102,
   "metadata": {},
   "outputs": [
    {
     "data": {
      "text/plain": [
       "72.0"
      ]
     },
     "execution_count": 102,
     "metadata": {},
     "output_type": "execute_result"
    }
   ],
   "source": [
    "coma=[]\n",
    "xy=traffic['Period of coma (hrs)'].dropna()\n",
    "for i in xy:\n",
    "    coma.append(int(i))\n",
    "np.median(coma)"
   ]
  },
  {
   "cell_type": "code",
   "execution_count": 104,
   "metadata": {},
   "outputs": [
    {
     "data": {
      "text/plain": [
       "count     25.000000\n",
       "mean     105.200000\n",
       "std      112.339144\n",
       "min        1.000000\n",
       "25%        5.000000\n",
       "50%       72.000000\n",
       "75%      144.000000\n",
       "max      384.000000\n",
       "dtype: float64"
      ]
     },
     "execution_count": 104,
     "metadata": {},
     "output_type": "execute_result"
    }
   ],
   "source": [
    "xz=pd.Series(coma)\n",
    "xz.describe()"
   ]
  },
  {
   "cell_type": "code",
   "execution_count": 106,
   "metadata": {},
   "outputs": [
    {
     "data": {
      "text/plain": [
       "139"
      ]
     },
     "execution_count": 106,
     "metadata": {},
     "output_type": "execute_result"
    }
   ],
   "source": [
    "iqr=144-5\n",
    "iqr"
   ]
  },
  {
   "cell_type": "markdown",
   "metadata": {},
   "source": [
    "#### 10) What is the ratio of students to bussinessmen who died in RTA under the influence of alcohol?"
   ]
  },
  {
   "cell_type": "code",
   "execution_count": 109,
   "metadata": {},
   "outputs": [
    {
     "data": {
      "text/plain": [
       "6"
      ]
     },
     "execution_count": 109,
     "metadata": {},
     "output_type": "execute_result"
    }
   ],
   "source": [
    "traffic[(traffic['Occupation']=='Student')&(traffic['Alco,Drug etc']=='Yes')]['Serial number'].count()"
   ]
  },
  {
   "cell_type": "code",
   "execution_count": 110,
   "metadata": {},
   "outputs": [
    {
     "data": {
      "text/plain": [
       "5"
      ]
     },
     "execution_count": 110,
     "metadata": {},
     "output_type": "execute_result"
    }
   ],
   "source": [
    "traffic[(traffic['Occupation']=='Bussinesman')&(traffic['Alco,Drug etc']=='Yes')]['Serial number'].count()"
   ]
  },
  {
   "cell_type": "markdown",
   "metadata": {},
   "source": [
    "## ratio of bussinesman:student=5:6"
   ]
  },
  {
   "cell_type": "markdown",
   "metadata": {},
   "source": [
    "#### 11) State some of the hypothesis which may be formulated based on this data?  And test these hypothesis "
   ]
  },
  {
   "cell_type": "markdown",
   "metadata": {},
   "source": [
    "## riders & pillion death is independent of alcohol\n",
    "* H0: rider&pillion death are independent of alchol\n",
    "* H1: riders & pillion  are dependent of alcohol\n"
   ]
  },
  {
   "cell_type": "code",
   "execution_count": 120,
   "metadata": {},
   "outputs": [
    {
     "data": {
      "text/html": [
       "<div>\n",
       "<style scoped>\n",
       "    .dataframe tbody tr th:only-of-type {\n",
       "        vertical-align: middle;\n",
       "    }\n",
       "\n",
       "    .dataframe tbody tr th {\n",
       "        vertical-align: top;\n",
       "    }\n",
       "\n",
       "    .dataframe thead th {\n",
       "        text-align: right;\n",
       "    }\n",
       "</style>\n",
       "<table border=\"1\" class=\"dataframe\">\n",
       "  <thead>\n",
       "    <tr style=\"text-align: right;\">\n",
       "      <th>Use of helmet</th>\n",
       "      <th>No</th>\n",
       "      <th>Yes</th>\n",
       "    </tr>\n",
       "    <tr>\n",
       "      <th>Person died</th>\n",
       "      <th></th>\n",
       "      <th></th>\n",
       "    </tr>\n",
       "  </thead>\n",
       "  <tbody>\n",
       "    <tr>\n",
       "      <th>Pillion</th>\n",
       "      <td>8</td>\n",
       "      <td>0</td>\n",
       "    </tr>\n",
       "    <tr>\n",
       "      <th>Rider</th>\n",
       "      <td>28</td>\n",
       "      <td>3</td>\n",
       "    </tr>\n",
       "    <tr>\n",
       "      <th>Rider with Pillion</th>\n",
       "      <td>1</td>\n",
       "      <td>0</td>\n",
       "    </tr>\n",
       "  </tbody>\n",
       "</table>\n",
       "</div>"
      ],
      "text/plain": [
       "Use of helmet       No  Yes\n",
       "Person died                \n",
       "Pillion              8    0\n",
       "Rider               28    3\n",
       "Rider with Pillion   1    0"
      ]
     },
     "execution_count": 120,
     "metadata": {},
     "output_type": "execute_result"
    }
   ],
   "source": [
    "tble=pd.crosstab(index=traffic['Person died'],columns=traffic['Use of helmet'])\n",
    "tble.drop('Na',axis=1,inplace=True)\n",
    "tble"
   ]
  },
  {
   "cell_type": "code",
   "execution_count": 121,
   "metadata": {},
   "outputs": [
    {
     "data": {
      "text/plain": [
       "(0.9415867480383607, 0.6245066043705507, 2, array([[ 7.4  ,  0.6  ],\n",
       "        [28.675,  2.325],\n",
       "        [ 0.925,  0.075]]))"
      ]
     },
     "execution_count": 121,
     "metadata": {},
     "output_type": "execute_result"
    }
   ],
   "source": [
    "from scipy.stats import chi2_contingency\n",
    "chi2_contingency(tble)"
   ]
  },
  {
   "cell_type": "code",
   "execution_count": 125,
   "metadata": {},
   "outputs": [
    {
     "data": {
      "text/html": [
       "<div>\n",
       "<style scoped>\n",
       "    .dataframe tbody tr th:only-of-type {\n",
       "        vertical-align: middle;\n",
       "    }\n",
       "\n",
       "    .dataframe tbody tr th {\n",
       "        vertical-align: top;\n",
       "    }\n",
       "\n",
       "    .dataframe thead th {\n",
       "        text-align: right;\n",
       "    }\n",
       "</style>\n",
       "<table border=\"1\" class=\"dataframe\">\n",
       "  <thead>\n",
       "    <tr style=\"text-align: right;\">\n",
       "      <th>Use of helmet</th>\n",
       "      <th>No</th>\n",
       "      <th>Yes</th>\n",
       "    </tr>\n",
       "    <tr>\n",
       "      <th>Person died</th>\n",
       "      <th></th>\n",
       "      <th></th>\n",
       "    </tr>\n",
       "  </thead>\n",
       "  <tbody>\n",
       "    <tr>\n",
       "      <th>Pillion</th>\n",
       "      <td>8</td>\n",
       "      <td>0</td>\n",
       "    </tr>\n",
       "    <tr>\n",
       "      <th>Rider</th>\n",
       "      <td>28</td>\n",
       "      <td>3</td>\n",
       "    </tr>\n",
       "  </tbody>\n",
       "</table>\n",
       "</div>"
      ],
      "text/plain": [
       "Use of helmet  No  Yes\n",
       "Person died           \n",
       "Pillion         8    0\n",
       "Rider          28    3"
      ]
     },
     "execution_count": 125,
     "metadata": {},
     "output_type": "execute_result"
    }
   ],
   "source": [
    "tble2=tble.drop(['Rider with Pillion'])\n",
    "tble2"
   ]
  },
  {
   "cell_type": "code",
   "execution_count": 124,
   "metadata": {},
   "outputs": [
    {
     "data": {
      "text/plain": [
       "(0.029485887096774206,\n",
       " 0.8636619455276243,\n",
       " 1,\n",
       " array([[ 7.38461538,  0.61538462],\n",
       "        [28.61538462,  2.38461538]]))"
      ]
     },
     "execution_count": 124,
     "metadata": {},
     "output_type": "execute_result"
    }
   ],
   "source": [
    "chi2_contingency(tble2)"
   ]
  },
  {
   "cell_type": "markdown",
   "metadata": {},
   "source": [
    "## alcohol & drug is independent of occupation\n",
    "* H0: occupation is independent of alcohol and drugs\n",
    "* H1: occupation is dependent of alcohol and drugs"
   ]
  },
  {
   "cell_type": "code",
   "execution_count": 126,
   "metadata": {},
   "outputs": [
    {
     "data": {
      "text/html": [
       "<div>\n",
       "<style scoped>\n",
       "    .dataframe tbody tr th:only-of-type {\n",
       "        vertical-align: middle;\n",
       "    }\n",
       "\n",
       "    .dataframe tbody tr th {\n",
       "        vertical-align: top;\n",
       "    }\n",
       "\n",
       "    .dataframe thead th {\n",
       "        text-align: right;\n",
       "    }\n",
       "</style>\n",
       "<table border=\"1\" class=\"dataframe\">\n",
       "  <thead>\n",
       "    <tr style=\"text-align: right;\">\n",
       "      <th>Alco,Drug etc</th>\n",
       "      <th>No</th>\n",
       "      <th>Yes</th>\n",
       "    </tr>\n",
       "    <tr>\n",
       "      <th>Occupation</th>\n",
       "      <th></th>\n",
       "      <th></th>\n",
       "    </tr>\n",
       "  </thead>\n",
       "  <tbody>\n",
       "    <tr>\n",
       "      <th>Advocate</th>\n",
       "      <td>1</td>\n",
       "      <td>0</td>\n",
       "    </tr>\n",
       "    <tr>\n",
       "      <th>Bussinesman</th>\n",
       "      <td>10</td>\n",
       "      <td>5</td>\n",
       "    </tr>\n",
       "    <tr>\n",
       "      <th>Carpenter</th>\n",
       "      <td>0</td>\n",
       "      <td>1</td>\n",
       "    </tr>\n",
       "    <tr>\n",
       "      <th>Employee</th>\n",
       "      <td>1</td>\n",
       "      <td>4</td>\n",
       "    </tr>\n",
       "    <tr>\n",
       "      <th>House Wife</th>\n",
       "      <td>1</td>\n",
       "      <td>0</td>\n",
       "    </tr>\n",
       "    <tr>\n",
       "      <th>Mechanic</th>\n",
       "      <td>1</td>\n",
       "      <td>1</td>\n",
       "    </tr>\n",
       "    <tr>\n",
       "      <th>Polic constable</th>\n",
       "      <td>0</td>\n",
       "      <td>1</td>\n",
       "    </tr>\n",
       "    <tr>\n",
       "      <th>Priest</th>\n",
       "      <td>1</td>\n",
       "      <td>0</td>\n",
       "    </tr>\n",
       "    <tr>\n",
       "      <th>Rag picker</th>\n",
       "      <td>0</td>\n",
       "      <td>1</td>\n",
       "    </tr>\n",
       "    <tr>\n",
       "      <th>Retired Person</th>\n",
       "      <td>2</td>\n",
       "      <td>2</td>\n",
       "    </tr>\n",
       "    <tr>\n",
       "      <th>Student</th>\n",
       "      <td>10</td>\n",
       "      <td>6</td>\n",
       "    </tr>\n",
       "    <tr>\n",
       "      <th>Watchman</th>\n",
       "      <td>0</td>\n",
       "      <td>2</td>\n",
       "    </tr>\n",
       "  </tbody>\n",
       "</table>\n",
       "</div>"
      ],
      "text/plain": [
       "Alco,Drug etc    No  Yes\n",
       "Occupation              \n",
       "Advocate          1    0\n",
       "Bussinesman      10    5\n",
       "Carpenter         0    1\n",
       "Employee          1    4\n",
       "House Wife        1    0\n",
       "Mechanic          1    1\n",
       "Polic constable   0    1\n",
       "Priest            1    0\n",
       "Rag picker        0    1\n",
       "Retired Person    2    2\n",
       "Student          10    6\n",
       "Watchman          0    2"
      ]
     },
     "execution_count": 126,
     "metadata": {},
     "output_type": "execute_result"
    }
   ],
   "source": [
    "tble1=pd.crosstab(index=traffic['Occupation'],columns=traffic['Alco,Drug etc'])\n",
    "tble1"
   ]
  },
  {
   "cell_type": "code",
   "execution_count": 127,
   "metadata": {},
   "outputs": [
    {
     "data": {
      "text/plain": [
       "(12.224906065485776, 0.34697745844137423, 11, array([[0.54, 0.46],\n",
       "        [8.1 , 6.9 ],\n",
       "        [0.54, 0.46],\n",
       "        [2.7 , 2.3 ],\n",
       "        [0.54, 0.46],\n",
       "        [1.08, 0.92],\n",
       "        [0.54, 0.46],\n",
       "        [0.54, 0.46],\n",
       "        [0.54, 0.46],\n",
       "        [2.16, 1.84],\n",
       "        [8.64, 7.36],\n",
       "        [1.08, 0.92]]))"
      ]
     },
     "execution_count": 127,
     "metadata": {},
     "output_type": "execute_result"
    }
   ],
   "source": [
    "chi2_contingency(tble1)"
   ]
  },
  {
   "cell_type": "markdown",
   "metadata": {},
   "source": [
    "## Accept the null hypothesis"
   ]
  },
  {
   "cell_type": "markdown",
   "metadata": {},
   "source": [
    "## Gender is independent of alcohol and drugs consumption\n",
    "* H0:Gender is independent of alcohol and drugs consumption\n",
    "* H1:Gender is dependent of alcohol and drugs consumption"
   ]
  },
  {
   "cell_type": "code",
   "execution_count": 129,
   "metadata": {},
   "outputs": [
    {
     "data": {
      "text/html": [
       "<div>\n",
       "<style scoped>\n",
       "    .dataframe tbody tr th:only-of-type {\n",
       "        vertical-align: middle;\n",
       "    }\n",
       "\n",
       "    .dataframe tbody tr th {\n",
       "        vertical-align: top;\n",
       "    }\n",
       "\n",
       "    .dataframe thead th {\n",
       "        text-align: right;\n",
       "    }\n",
       "</style>\n",
       "<table border=\"1\" class=\"dataframe\">\n",
       "  <thead>\n",
       "    <tr style=\"text-align: right;\">\n",
       "      <th>Alco,Drug etc</th>\n",
       "      <th>No</th>\n",
       "      <th>Yes</th>\n",
       "    </tr>\n",
       "    <tr>\n",
       "      <th>Gender</th>\n",
       "      <th></th>\n",
       "      <th></th>\n",
       "    </tr>\n",
       "  </thead>\n",
       "  <tbody>\n",
       "    <tr>\n",
       "      <th>Female</th>\n",
       "      <td>4</td>\n",
       "      <td>6</td>\n",
       "    </tr>\n",
       "    <tr>\n",
       "      <th>Male</th>\n",
       "      <td>23</td>\n",
       "      <td>17</td>\n",
       "    </tr>\n",
       "  </tbody>\n",
       "</table>\n",
       "</div>"
      ],
      "text/plain": [
       "Alco,Drug etc  No  Yes\n",
       "Gender                \n",
       "Female          4    6\n",
       "Male           23   17"
      ]
     },
     "execution_count": 129,
     "metadata": {},
     "output_type": "execute_result"
    }
   ],
   "source": [
    "tble3=pd.crosstab(index=traffic['Gender'],columns=traffic['Alco,Drug etc'])\n",
    "tble3"
   ]
  },
  {
   "cell_type": "code",
   "execution_count": 130,
   "metadata": {},
   "outputs": [
    {
     "data": {
      "text/plain": [
       "(0.4076086956521739, 0.5231857390945609, 1, array([[ 5.4,  4.6],\n",
       "        [21.6, 18.4]]))"
      ]
     },
     "execution_count": 130,
     "metadata": {},
     "output_type": "execute_result"
    }
   ],
   "source": [
    "chi2_contingency(tble3)"
   ]
  },
  {
   "cell_type": "markdown",
   "metadata": {},
   "source": [
    "## Accept the null hypothesis"
   ]
  },
  {
   "cell_type": "markdown",
   "metadata": {},
   "source": [
    "## Is gender is independent of type of vehicle they are using\n",
    "* H0: gender is independent of type of vehicle they are using\n",
    "* H1: gender is dependent of type of vehicle they are using"
   ]
  },
  {
   "cell_type": "code",
   "execution_count": 136,
   "metadata": {},
   "outputs": [
    {
     "data": {
      "text/html": [
       "<div>\n",
       "<style scoped>\n",
       "    .dataframe tbody tr th:only-of-type {\n",
       "        vertical-align: middle;\n",
       "    }\n",
       "\n",
       "    .dataframe tbody tr th {\n",
       "        vertical-align: top;\n",
       "    }\n",
       "\n",
       "    .dataframe thead th {\n",
       "        text-align: right;\n",
       "    }\n",
       "</style>\n",
       "<table border=\"1\" class=\"dataframe\">\n",
       "  <thead>\n",
       "    <tr style=\"text-align: right;\">\n",
       "      <th>Gender</th>\n",
       "      <th>Female</th>\n",
       "      <th>Male</th>\n",
       "    </tr>\n",
       "    <tr>\n",
       "      <th>Type of vehicle</th>\n",
       "      <th></th>\n",
       "      <th></th>\n",
       "    </tr>\n",
       "  </thead>\n",
       "  <tbody>\n",
       "    <tr>\n",
       "      <th>Hero Honda</th>\n",
       "      <td>0</td>\n",
       "      <td>5</td>\n",
       "    </tr>\n",
       "    <tr>\n",
       "      <th>Kinetic Honda</th>\n",
       "      <td>2</td>\n",
       "      <td>4</td>\n",
       "    </tr>\n",
       "    <tr>\n",
       "      <th>RX 100</th>\n",
       "      <td>4</td>\n",
       "      <td>10</td>\n",
       "    </tr>\n",
       "    <tr>\n",
       "      <th>Scooter</th>\n",
       "      <td>2</td>\n",
       "      <td>13</td>\n",
       "    </tr>\n",
       "    <tr>\n",
       "      <th>Scooty</th>\n",
       "      <td>0</td>\n",
       "      <td>2</td>\n",
       "    </tr>\n",
       "    <tr>\n",
       "      <th>TVS 50</th>\n",
       "      <td>2</td>\n",
       "      <td>3</td>\n",
       "    </tr>\n",
       "    <tr>\n",
       "      <th>TVS Suzuki</th>\n",
       "      <td>0</td>\n",
       "      <td>2</td>\n",
       "    </tr>\n",
       "    <tr>\n",
       "      <th>Yezdi</th>\n",
       "      <td>0</td>\n",
       "      <td>1</td>\n",
       "    </tr>\n",
       "  </tbody>\n",
       "</table>\n",
       "</div>"
      ],
      "text/plain": [
       "Gender           Female  Male\n",
       "Type of vehicle              \n",
       "Hero Honda            0     5\n",
       "Kinetic Honda         2     4\n",
       "RX 100                4    10\n",
       "Scooter               2    13\n",
       "Scooty                0     2\n",
       "TVS 50                2     3\n",
       "TVS Suzuki            0     2\n",
       "Yezdi                 0     1"
      ]
     },
     "execution_count": 136,
     "metadata": {},
     "output_type": "execute_result"
    }
   ],
   "source": [
    "tble4=pd.crosstab(index=traffic['Type of vehicle'],columns=traffic['Gender'])\n",
    "tble4"
   ]
  },
  {
   "cell_type": "code",
   "execution_count": 137,
   "metadata": {},
   "outputs": [
    {
     "data": {
      "text/plain": [
       "(5.476190476190476, 0.6020572836146408, 7, array([[ 1. ,  4. ],\n",
       "        [ 1.2,  4.8],\n",
       "        [ 2.8, 11.2],\n",
       "        [ 3. , 12. ],\n",
       "        [ 0.4,  1.6],\n",
       "        [ 1. ,  4. ],\n",
       "        [ 0.4,  1.6],\n",
       "        [ 0.2,  0.8]]))"
      ]
     },
     "execution_count": 137,
     "metadata": {},
     "output_type": "execute_result"
    }
   ],
   "source": [
    "chi2_contingency(tble4)"
   ]
  },
  {
   "cell_type": "markdown",
   "metadata": {},
   "source": [
    "## Accept the null hypothesis"
   ]
  },
  {
   "cell_type": "markdown",
   "metadata": {},
   "source": [
    "## No there is not sufficient data to test the hypothesis, we cant perform any parametric test on the data,we cant use central limit theorem to convert data to standard normal curve "
   ]
  },
  {
   "cell_type": "code",
   "execution_count": 141,
   "metadata": {},
   "outputs": [
    {
     "data": {
      "text/plain": [
       "<matplotlib.axes._subplots.AxesSubplot at 0x2083b07b198>"
      ]
     },
     "execution_count": 141,
     "metadata": {},
     "output_type": "execute_result"
    },
    {
     "data": {
      "image/png": "[encoded data removed]",
      "text/plain": [
       "<Figure size 432x288 with 1 Axes>"
      ]
     },
     "metadata": {
      "needs_background": "light"
     },
     "output_type": "display_data"
    }
   ],
   "source": [
    "from matplotlib import pyplot as plt\n",
    "tble.plot(kind='bar')"
   ]
  },
  {
   "cell_type": "code",
   "execution_count": 142,
   "metadata": {},
   "outputs": [
    {
     "data": {
      "text/plain": [
       "<matplotlib.axes._subplots.AxesSubplot at 0x2083ae3f630>"
      ]
     },
     "execution_count": 142,
     "metadata": {},
     "output_type": "execute_result"
    },
    {
     "data": {
      "image/png": "[encoded data removed]",
      "text/plain": [
       "<Figure size 432x288 with 1 Axes>"
      ]
     },
     "metadata": {
      "needs_background": "light"
     },
     "output_type": "display_data"
    }
   ],
   "source": [
    "tble1.plot(kind='bar')"
   ]
  },
  {
   "cell_type": "code",
   "execution_count": 27,
   "metadata": {},
   "outputs": [
    {
     "data": {
      "text/html": [
       "<div>\n",
       "<style scoped>\n",
       "    .dataframe tbody tr th:only-of-type {\n",
       "        vertical-align: middle;\n",
       "    }\n",
       "\n",
       "    .dataframe tbody tr th {\n",
       "        vertical-align: top;\n",
       "    }\n",
       "\n",
       "    .dataframe thead th {\n",
       "        text-align: right;\n",
       "    }\n",
       "</style>\n",
       "<table border=\"1\" class=\"dataframe\">\n",
       "  <thead>\n",
       "    <tr style=\"text-align: right;\">\n",
       "      <th></th>\n",
       "      <th>index</th>\n",
       "      <th>Occupation</th>\n",
       "    </tr>\n",
       "  </thead>\n",
       "  <tbody>\n",
       "    <tr>\n",
       "      <th>0</th>\n",
       "      <td>Student</td>\n",
       "      <td>16</td>\n",
       "    </tr>\n",
       "    <tr>\n",
       "      <th>1</th>\n",
       "      <td>Bussinesman</td>\n",
       "      <td>15</td>\n",
       "    </tr>\n",
       "    <tr>\n",
       "      <th>2</th>\n",
       "      <td>Employee</td>\n",
       "      <td>5</td>\n",
       "    </tr>\n",
       "    <tr>\n",
       "      <th>3</th>\n",
       "      <td>Retired Person</td>\n",
       "      <td>4</td>\n",
       "    </tr>\n",
       "    <tr>\n",
       "      <th>4</th>\n",
       "      <td>Mechanic</td>\n",
       "      <td>2</td>\n",
       "    </tr>\n",
       "    <tr>\n",
       "      <th>5</th>\n",
       "      <td>Watchman</td>\n",
       "      <td>2</td>\n",
       "    </tr>\n",
       "    <tr>\n",
       "      <th>6</th>\n",
       "      <td>Carpenter</td>\n",
       "      <td>1</td>\n",
       "    </tr>\n",
       "    <tr>\n",
       "      <th>7</th>\n",
       "      <td>Advocate</td>\n",
       "      <td>1</td>\n",
       "    </tr>\n",
       "    <tr>\n",
       "      <th>8</th>\n",
       "      <td>Rag picker</td>\n",
       "      <td>1</td>\n",
       "    </tr>\n",
       "    <tr>\n",
       "      <th>9</th>\n",
       "      <td>Priest</td>\n",
       "      <td>1</td>\n",
       "    </tr>\n",
       "    <tr>\n",
       "      <th>10</th>\n",
       "      <td>House Wife</td>\n",
       "      <td>1</td>\n",
       "    </tr>\n",
       "    <tr>\n",
       "      <th>11</th>\n",
       "      <td>Polic constable</td>\n",
       "      <td>1</td>\n",
       "    </tr>\n",
       "  </tbody>\n",
       "</table>\n",
       "</div>"
      ],
      "text/plain": [
       "              index  Occupation\n",
       "0           Student          16\n",
       "1       Bussinesman          15\n",
       "2          Employee           5\n",
       "3    Retired Person           4\n",
       "4          Mechanic           2\n",
       "5          Watchman           2\n",
       "6         Carpenter           1\n",
       "7          Advocate           1\n",
       "8        Rag picker           1\n",
       "9            Priest           1\n",
       "10       House Wife           1\n",
       "11  Polic constable           1"
      ]
     },
     "execution_count": 27,
     "metadata": {},
     "output_type": "execute_result"
    }
   ],
   "source": [
    "occu = pd.DataFrame(traffic['Occupation'].value_counts()).reset_index()\n",
    "occu"
   ]
  },
  {
   "cell_type": "code",
   "execution_count": 29,
   "metadata": {},
   "outputs": [
    {
     "data": {
      "text/plain": [
       "([0, 1, 2, 3, 4, 5, 6, 7, 8, 9, 10, 11],\n",
       " <a list of 12 Text xticklabel objects>)"
      ]
     },
     "execution_count": 29,
     "metadata": {},
     "output_type": "execute_result"
    },
    {
     "data": {
      "image/png": "[encoded data removed]",
      "text/plain": [
       "<Figure size 432x288 with 1 Axes>"
      ]
     },
     "metadata": {
      "needs_background": "light"
     },
     "output_type": "display_data"
    }
   ],
   "source": [
    "plt.bar(occu['index'],occu['Occupation'])\n",
    "plt.xticks(rotation=90)"
   ]
  },
  {
   "cell_type": "code",
   "execution_count": 30,
   "metadata": {},
   "outputs": [],
   "source": [
    "Age_Cat=traffic['Age (yrs)'].apply(lambda x:\"Childern\" if x<=18 else (\"Young\" if x>=19 and x<=30 else(\"Elders\" if x>=31 and x<=45 else \"Older\")))"
   ]
  },
  {
   "cell_type": "code",
   "execution_count": 32,
   "metadata": {},
   "outputs": [
    {
     "data": {
      "text/html": [
       "<div>\n",
       "<style scoped>\n",
       "    .dataframe tbody tr th:only-of-type {\n",
       "        vertical-align: middle;\n",
       "    }\n",
       "\n",
       "    .dataframe tbody tr th {\n",
       "        vertical-align: top;\n",
       "    }\n",
       "\n",
       "    .dataframe thead th {\n",
       "        text-align: right;\n",
       "    }\n",
       "</style>\n",
       "<table border=\"1\" class=\"dataframe\">\n",
       "  <thead>\n",
       "    <tr style=\"text-align: right;\">\n",
       "      <th>Age (yrs)</th>\n",
       "      <th>Childern</th>\n",
       "      <th>Elders</th>\n",
       "      <th>Older</th>\n",
       "      <th>Young</th>\n",
       "    </tr>\n",
       "    <tr>\n",
       "      <th>Site of death</th>\n",
       "      <th></th>\n",
       "      <th></th>\n",
       "      <th></th>\n",
       "      <th></th>\n",
       "    </tr>\n",
       "  </thead>\n",
       "  <tbody>\n",
       "    <tr>\n",
       "      <th>Hospital</th>\n",
       "      <td>3</td>\n",
       "      <td>9</td>\n",
       "      <td>5</td>\n",
       "      <td>8</td>\n",
       "    </tr>\n",
       "    <tr>\n",
       "      <th>On the way</th>\n",
       "      <td>3</td>\n",
       "      <td>1</td>\n",
       "      <td>0</td>\n",
       "      <td>2</td>\n",
       "    </tr>\n",
       "    <tr>\n",
       "      <th>Spot</th>\n",
       "      <td>2</td>\n",
       "      <td>9</td>\n",
       "      <td>2</td>\n",
       "      <td>6</td>\n",
       "    </tr>\n",
       "  </tbody>\n",
       "</table>\n",
       "</div>"
      ],
      "text/plain": [
       "Age (yrs)      Childern  Elders  Older  Young\n",
       "Site of death                                \n",
       "Hospital              3       9      5      8\n",
       "On the way            3       1      0      2\n",
       "Spot                  2       9      2      6"
      ]
     },
     "execution_count": 32,
     "metadata": {},
     "output_type": "execute_result"
    }
   ],
   "source": [
    "Age_Death_loc=pd.crosstab(traffic['Site of death'],Age_Cat)\n",
    "Age_Death_loc"
   ]
  },
  {
   "cell_type": "code",
   "execution_count": 33,
   "metadata": {},
   "outputs": [
    {
     "data": {
      "text/plain": [
       "<matplotlib.axes._subplots.AxesSubplot at 0x2a1f57cd0b8>"
      ]
     },
     "execution_count": 33,
     "metadata": {},
     "output_type": "execute_result"
    },
    {
     "data": {
      "image/png": "[encoded data removed]",
      "text/plain": [
       "<Figure size 432x288 with 1 Axes>"
      ]
     },
     "metadata": {
      "needs_background": "light"
     },
     "output_type": "display_data"
    }
   ],
   "source": [
    "Age_Death_loc.plot(kind='bar')"
   ]
  },
  {
   "cell_type": "code",
   "execution_count": 143,
   "metadata": {},
   "outputs": [
    {
     "data": {
      "text/plain": [
       "<matplotlib.axes._subplots.AxesSubplot at 0x2083ad040f0>"
      ]
     },
     "execution_count": 143,
     "metadata": {},
     "output_type": "execute_result"
    },
    {
     "data": {
      "image/png": "[encoded data removed]",
      "text/plain": [
       "<Figure size 432x288 with 1 Axes>"
      ]
     },
     "metadata": {
      "needs_background": "light"
     },
     "output_type": "display_data"
    }
   ],
   "source": [
    "tble2.plot(kind='bar')"
   ]
  },
  {
   "cell_type": "code",
   "execution_count": 144,
   "metadata": {},
   "outputs": [
    {
     "data": {
      "text/plain": [
       "<matplotlib.axes._subplots.AxesSubplot at 0x2083b1073c8>"
      ]
     },
     "execution_count": 144,
     "metadata": {},
     "output_type": "execute_result"
    },
    {
     "data": {
      "image/png": "[encoded data removed]",
      "text/plain": [
       "<Figure size 432x288 with 1 Axes>"
      ]
     },
     "metadata": {
      "needs_background": "light"
     },
     "output_type": "display_data"
    }
   ],
   "source": [
    "tble3.plot(kind='bar')"
   ]
  },
  {
   "cell_type": "code",
   "execution_count": null,
   "metadata": {},
   "outputs": [],
   "source": []
  },
  {
   "cell_type": "code",
   "execution_count": 145,
   "metadata": {},
   "outputs": [
    {
     "data": {
      "text/plain": [
       "Serial number            0\n",
       "Age (yrs)                0\n",
       "Gender                   0\n",
       "Occupation               0\n",
       "Site of death            0\n",
       "Time of death            0\n",
       "Alco,Drug etc            0\n",
       "Use of helmet            0\n",
       "Type of vehicle          0\n",
       "Period of coma (hrs)    25\n",
       "Person died              0\n",
       "dtype: int64"
      ]
     },
     "execution_count": 145,
     "metadata": {},
     "output_type": "execute_result"
    }
   ],
   "source": [
    "traffic.isnull().sum()"
   ]
  },
  {
   "cell_type": "code",
   "execution_count": 146,
   "metadata": {},
   "outputs": [
    {
     "data": {
      "text/plain": [
       "<matplotlib.axes._subplots.AxesSubplot at 0x2083c7f1518>"
      ]
     },
     "execution_count": 146,
     "metadata": {},
     "output_type": "execute_result"
    },
    {
     "data": {
      "image/png": "[encoded data removed]",
      "text/plain": [
       "<Figure size 432x288 with 1 Axes>"
      ]
     },
     "metadata": {
      "needs_background": "light"
     },
     "output_type": "display_data"
    }
   ],
   "source": [
    "import seaborn as sns \n",
    "from matplotlib import pyplot as plt\n",
    "sns.heatmap(traffic.isnull(),cbar=False)"
   ]
  },
  {
   "cell_type": "markdown",
   "metadata": {},
   "source": [
    "#### 14) What are the different types of vehicles used?"
   ]
  },
  {
   "cell_type": "code",
   "execution_count": 148,
   "metadata": {},
   "outputs": [
    {
     "data": {
      "text/plain": [
       "Scooter          15\n",
       "RX 100           14\n",
       "Kinetic Honda     6\n",
       "TVS 50            5\n",
       "Hero Honda        5\n",
       "TVS Suzuki        2\n",
       "Scooty            2\n",
       "Yezdi             1\n",
       "Name: Type of vehicle, dtype: int64"
      ]
     },
     "execution_count": 148,
     "metadata": {},
     "output_type": "execute_result"
    }
   ],
   "source": [
    "traffic['Type of vehicle'].value_counts()"
   ]
  },
  {
   "cell_type": "code",
   "execution_count": null,
   "metadata": {},
   "outputs": [],
   "source": []
  }
 ],
 "metadata": {
  "kernelspec": {
   "display_name": "Python 3",
   "language": "python",
   "name": "python3"
  },
  "language_info": {
   "codemirror_mode": {
    "name": "ipython",
    "version": 3
   },
   "file_extension": ".py",
   "mimetype": "text/x-python",
   "name": "python",
   "nbconvert_exporter": "python",
   "pygments_lexer": "ipython3",
   "version": "3.7.3"
  }
 },
 "nbformat": 4,
 "nbformat_minor": 2
}
