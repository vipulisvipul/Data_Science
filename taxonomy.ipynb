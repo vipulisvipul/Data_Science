{
 "cells": [
  {
   "cell_type": "code",
   "execution_count": null,
   "metadata": {},
   "outputs": [],
   "source": [
    "import pandas as pd\n",
    "import numpy as np\n",
    "from sklearn.model_selection import train_test_split\n",
    "from sklearn.metrics import confusion_matrix\n",
    "from sklearn.neighbors import KNeighborsClassifier as knn\n",
    "from matplotlib import pyplot as plt\n",
    "from sklearn.metrics import confusion_matrix\n",
    "from sklearn.tree  import DecisionTreeClassifier\n",
    "from sklearn.metrics import accuracy_score\n",
    "from sklearn.ensemble import RandomForestClassifier,AdaBoostClassifier,GradientBoostingClassifier\n",
    "from sklearn.linear_model import LogisticRegression\n",
    "from sklearn.decomposition import PCA\n",
    "from sklearn.preprocessing import StandardScaler\n",
    "from sklearn.naive_bayes import GaussianNB\n",
    "from xgboost import XGBClassifier"
   ]
  },
  {
   "cell_type": "code",
   "execution_count": null,
   "metadata": {},
   "outputs": [],
   "source": [
    "taxo=pd.read_excel('C:/Users/Administrator/Downloads/Taxonomy_Dataset.xlsx')"
   ]
  },
  {
   "cell_type": "code",
   "execution_count": null,
   "metadata": {},
   "outputs": [],
   "source": [
    "taxo.head(3)"
   ]
  },
  {
   "cell_type": "code",
   "execution_count": null,
   "metadata": {},
   "outputs": [],
   "source": [
    "taxo['Normalized_Category'].unique()"
   ]
  },
  {
   "cell_type": "code",
   "execution_count": null,
   "metadata": {},
   "outputs": [],
   "source": [
    "taxo['merchant_category_Level3'].unique()"
   ]
  },
  {
   "cell_type": "code",
   "execution_count": null,
   "metadata": {},
   "outputs": [],
   "source": [
    "taxo.shape"
   ]
  },
  {
   "cell_type": "code",
   "execution_count": null,
   "metadata": {},
   "outputs": [],
   "source": [
    "taxo.isnull().sum()"
   ]
  },
  {
   "cell_type": "code",
   "execution_count": null,
   "metadata": {},
   "outputs": [],
   "source": [
    "taxo=taxo.fillna(method='bfill')"
   ]
  },
  {
   "cell_type": "code",
   "execution_count": null,
   "metadata": {},
   "outputs": [],
   "source": [
    "taxo.isnull().sum()"
   ]
  },
  {
   "cell_type": "code",
   "execution_count": null,
   "metadata": {},
   "outputs": [],
   "source": [
    "taxo.dtypes"
   ]
  },
  {
   "cell_type": "code",
   "execution_count": null,
   "metadata": {},
   "outputs": [],
   "source": [
    "from sklearn.preprocessing import LabelEncoder\n",
    "x1=LabelEncoder()\n",
    "#taxo['Gender']=x1.fit_transform(taxo['Gender'])\n",
    "taxo['Normalized_Category']=x1.fit_transform(taxo['Normalized_Category'])\n",
    "taxo['Gender']=x1.fit_transform(taxo['Gender'])\n",
    "taxo['merchant_category_Level 1']=x1.fit_transform(taxo['merchant_category_Level 1'])\n",
    "taxo['merchant_category_Level2']=x1.fit_transform(taxo['merchant_category_Level2'])\n",
    "taxo['merchant_category_Level3']=x1.fit_transform(taxo['merchant_category_Level3'])\n",
    "taxo['Brand']=x1.fit_transform(taxo['Brand'])\n",
    "taxo['Pattern']=x1.fit_transform(taxo['Pattern'])\n",
    "taxo['Material']=x1.fit_transform(taxo['Material'])\n",
    "taxo['Occasion']=x1.fit_transform(taxo['Occasion'])\n",
    "taxo['Color']=x1.fit_transform(taxo['Color'])\n",
    "taxo['Title']=x1.fit_transform(taxo['Title'])\n",
    "taxo['Description']=x1.fit_transform(taxo['Description'])\n",
    "\n",
    "\n",
    "taxo.head(2)"
   ]
  },
  {
   "cell_type": "code",
   "execution_count": null,
   "metadata": {},
   "outputs": [],
   "source": [
    "## predicting the normalizing category\n",
    "y=taxo['Normalized_Category']\n",
    "x=taxo.drop(['Normalized_Category','product_id'],axis=1)"
   ]
  },
  {
   "cell_type": "code",
   "execution_count": null,
   "metadata": {},
   "outputs": [],
   "source": [
    "x.head()"
   ]
  },
  {
   "cell_type": "code",
   "execution_count": null,
   "metadata": {},
   "outputs": [],
   "source": [
    "y.head()"
   ]
  },
  {
   "cell_type": "code",
   "execution_count": null,
   "metadata": {},
   "outputs": [],
   "source": [
    "#x1=pd.get_dummies(x)\n",
    "#x1.head()\n",
    "#x1.shape"
   ]
  },
  {
   "cell_type": "code",
   "execution_count": null,
   "metadata": {},
   "outputs": [],
   "source": [
    "#x1=x['price']\n",
    "#x1=pd.DataFrame(x1)\n",
    "#x1"
   ]
  },
  {
   "cell_type": "code",
   "execution_count": null,
   "metadata": {},
   "outputs": [],
   "source": [
    "#sc = StandardScaler()\n",
    "# Fitting the object on our data\n",
    "#X_scaled = sc.fit_transform(x1)\n",
    "#x_scaler=pd.DataFrame(X_scaled)\n"
   ]
  },
  {
   "cell_type": "code",
   "execution_count": null,
   "metadata": {},
   "outputs": [],
   "source": [
    "#x=x.drop(['price'],axis=1)\n",
    "#x2=pd.concat([x_scaler,x],axis=1)\n",
    "#x2=x2.drop(['price'],axis=1)\n",
    "#x2\n"
   ]
  },
  {
   "cell_type": "code",
   "execution_count": null,
   "metadata": {},
   "outputs": [],
   "source": [
    "x_train,x_test,y_train,y_test = train_test_split(x,y,test_size=0.2,random_state = 123 )"
   ]
  },
  {
   "cell_type": "code",
   "execution_count": null,
   "metadata": {},
   "outputs": [],
   "source": [
    "len(x_test)"
   ]
  },
  {
   "cell_type": "code",
   "execution_count": null,
   "metadata": {},
   "outputs": [],
   "source": [
    "len(x_train)"
   ]
  },
  {
   "cell_type": "code",
   "execution_count": null,
   "metadata": {},
   "outputs": [],
   "source": [
    "import statsmodels.formula.api as smf\n",
    "model=smf.OLS(y_train,x_train).fit()\n",
    "model.summary()"
   ]
  },
  {
   "cell_type": "code",
   "execution_count": null,
   "metadata": {},
   "outputs": [],
   "source": [
    "gn=GaussianNB()\n",
    "gn.fit(x_train,y_train)\n",
    "predict=gn.predict(x_test)"
   ]
  },
  {
   "cell_type": "code",
   "execution_count": 294,
   "metadata": {},
   "outputs": [
    {
     "name": "stdout",
     "output_type": "stream",
     "text": [
      "Naive score= 78.3876500857633\n"
     ]
    }
   ],
   "source": [
    "print('Naive score=',gn.score(x_test,y_test)*100)"
   ]
  },
  {
   "cell_type": "code",
   "execution_count": 295,
   "metadata": {},
   "outputs": [
    {
     "data": {
      "text/plain": [
       "DecisionTreeClassifier(class_weight=None, criterion='gini', max_depth=None,\n",
       "                       max_features=None, max_leaf_nodes=None,\n",
       "                       min_impurity_decrease=0.0, min_impurity_split=None,\n",
       "                       min_samples_leaf=1, min_samples_split=2,\n",
       "                       min_weight_fraction_leaf=0.0, presort=False,\n",
       "                       random_state=None, splitter='best')"
      ]
     },
     "execution_count": 295,
     "metadata": {},
     "output_type": "execute_result"
    }
   ],
   "source": [
    "clfl=DecisionTreeClassifier()\n",
    "clfl.fit(x_train,y_train)"
   ]
  },
  {
   "cell_type": "code",
   "execution_count": 296,
   "metadata": {},
   "outputs": [
    {
     "data": {
      "text/plain": [
       "array([61, 61, 43, 56, 36, 65, 43, 10, 65, 18, 36, 17, 47, 65, 36, 47, 19,\n",
       "       47, 24, 27, 32, 46, 10, 47, 33, 32, 17, 47, 48, 32, 24, 24,  0, 10,\n",
       "       62, 43, 33, 43, 47, 64, 65, 36, 33, 33, 36, 47, 65, 43, 64, 33, 33,\n",
       "       61,  1, 47, 43, 65, 33, 43, 33, 25, 47,  3, 18, 33, 47, 66, 39, 47,\n",
       "       33, 33, 17, 36, 23, 47, 47, 47, 47, 33, 47, 62, 47, 67, 61, 47, 47,\n",
       "       32, 48, 66, 10, 62, 47, 43, 36, 43, 47, 47, 10, 47, 43, 36, 36, 33,\n",
       "       47,  2, 10, 47, 61, 47, 43, 47, 33, 36, 22,  0,  6, 33, 47, 36, 67,\n",
       "        2, 61, 46,  0, 43, 47, 48, 33, 61, 43, 28, 36, 47, 33, 54, 61, 10,\n",
       "       10, 47, 47, 36,  2, 47,  8, 47, 33, 61, 47, 39, 43, 28, 62, 33, 36,\n",
       "       33, 36,  8, 65, 47, 33, 32, 43, 17, 43, 66, 62, 32, 54, 47, 27, 36,\n",
       "       47, 47, 33, 47, 33, 20,  3, 32, 32, 33, 36, 22, 26, 65, 47, 62, 47,\n",
       "       33, 33, 67, 47, 66, 57, 56, 10, 32, 43, 22, 33,  0, 36, 47, 43, 47,\n",
       "       66, 33, 47, 50, 20, 28, 69, 47, 47, 65, 43, 47,  2, 43, 47, 65, 47,\n",
       "       61, 50, 20, 36, 62, 10,  6, 63,  2, 32,  2, 65, 47, 32, 33, 37, 47,\n",
       "        2, 33, 10, 10, 47, 61, 47, 47, 47, 33, 33, 47, 32, 20, 47, 47, 36,\n",
       "       26, 10, 43, 65, 65, 47, 32, 30, 47, 13, 47, 10, 47, 10, 66, 33, 46,\n",
       "       47, 39, 65, 47, 47, 66, 33, 33, 36, 66, 47, 28, 61, 29, 47, 33, 61,\n",
       "       31, 22, 47, 47, 47, 43, 66, 36, 28, 10, 33, 65, 33, 61, 65, 47, 65,\n",
       "       43, 65, 33, 36, 63, 32, 46, 47, 47,  1, 63, 33, 65, 47, 47, 66, 47,\n",
       "       61, 47, 36, 36, 36, 36, 22, 66, 47, 43, 47, 36, 66, 33,  0, 47,  0,\n",
       "       65, 66, 43, 47, 47, 46, 47, 33, 43, 10, 43, 33, 43, 47, 43, 47, 66,\n",
       "       65, 69, 19, 47,  3, 47, 18, 29, 66, 17, 20, 33, 47, 36, 47, 10, 33,\n",
       "       47, 36, 47, 66, 47,  2, 61, 47, 36, 47, 28, 10, 43, 65, 47, 10, 47,\n",
       "       20, 43, 52, 47, 60, 62, 47, 47,  0, 46,  0, 43, 32, 26,  8, 54, 47,\n",
       "       47, 61, 65, 47, 47, 66, 47, 36, 47, 47, 43, 22, 66, 32, 22, 43, 47,\n",
       "       65, 66, 46, 66, 43, 10,  7, 26, 39, 25, 47, 43, 32, 46, 10, 66, 36,\n",
       "       43, 50, 47, 10, 65, 10, 36, 47, 65,  0, 65, 47, 47, 10, 59, 10, 47,\n",
       "       54,  6, 47, 65, 65, 47,  0, 18, 43, 47, 43, 47, 33, 66,  2, 47, 33,\n",
       "       33, 61, 20, 32, 61, 47, 62, 46, 47, 62, 43, 61, 39, 47, 65, 46, 36,\n",
       "       47, 33, 54, 47, 46, 39, 43, 47, 55, 24, 67,  2, 43, 66, 15, 47, 67,\n",
       "       54, 62, 33, 66, 36, 33,  0, 66, 47, 61, 64, 47, 10, 33, 32, 66,  3,\n",
       "       47, 32, 33, 33, 33, 66, 47, 36, 41, 36, 47, 36, 47, 65, 63, 59, 43,\n",
       "       43, 47, 66, 47,  0, 62, 66, 50,  6, 46, 33, 47, 65, 10, 62, 50, 27,\n",
       "       43, 33, 22, 47, 43, 22,  2, 33, 61, 33, 47, 47, 33, 62, 25, 47, 32,\n",
       "       66, 65, 61, 33, 65], dtype=int64)"
      ]
     },
     "execution_count": 296,
     "metadata": {},
     "output_type": "execute_result"
    }
   ],
   "source": [
    "Y_pred=clfl.predict(x_test)\n",
    "Y_pred"
   ]
  },
  {
   "cell_type": "code",
   "execution_count": 297,
   "metadata": {},
   "outputs": [
    {
     "name": "stdout",
     "output_type": "stream",
     "text": [
      "accuracy= 0.8782161234991424\n"
     ]
    }
   ],
   "source": [
    "print('accuracy=',accuracy_score(y_test,Y_pred))"
   ]
  },
  {
   "cell_type": "code",
   "execution_count": 298,
   "metadata": {},
   "outputs": [
    {
     "name": "stdout",
     "output_type": "stream",
     "text": [
      "Confusion matrix is:\n",
      "[[11  0  0 ...  0  0  0]\n",
      " [ 0  0  0 ...  0  0  0]\n",
      " [ 0  0  3 ...  0  0  0]\n",
      " ...\n",
      " [ 0  0  0 ...  5  0  0]\n",
      " [ 0  0  0 ...  0  0  0]\n",
      " [ 0  0  0 ...  0  0  0]]\n"
     ]
    }
   ],
   "source": [
    "CM=confusion_matrix(y_test,Y_pred)\n",
    "print('Confusion matrix is:',CM,sep='\\n')"
   ]
  },
  {
   "cell_type": "code",
   "execution_count": 332,
   "metadata": {},
   "outputs": [
    {
     "data": {
      "text/plain": [
       "DecisionTreeClassifier(class_weight=None, criterion='entropy', max_depth=5,\n",
       "                       max_features=None, max_leaf_nodes=20,\n",
       "                       min_impurity_decrease=0.0, min_impurity_split=None,\n",
       "                       min_samples_leaf=12, min_samples_split=2,\n",
       "                       min_weight_fraction_leaf=0.0, presort=False,\n",
       "                       random_state=None, splitter='best')"
      ]
     },
     "execution_count": 332,
     "metadata": {},
     "output_type": "execute_result"
    }
   ],
   "source": [
    "clf2=DecisionTreeClassifier(criterion='entropy',splitter='best',max_leaf_nodes=20,min_samples_leaf=12,max_depth=5)\n",
    "clf2.fit(x_train,y_train)"
   ]
  },
  {
   "cell_type": "code",
   "execution_count": 333,
   "metadata": {},
   "outputs": [],
   "source": [
    "Y1_predict=clf2.predict(x_test)"
   ]
  },
  {
   "cell_type": "code",
   "execution_count": 334,
   "metadata": {},
   "outputs": [
    {
     "name": "stdout",
     "output_type": "stream",
     "text": [
      "accuracy= 0.8353344768439108\n"
     ]
    }
   ],
   "source": [
    "print('accuracy=',accuracy_score(y_test,Y1_predict))"
   ]
  },
  {
   "cell_type": "code",
   "execution_count": 337,
   "metadata": {},
   "outputs": [
    {
     "data": {
      "text/plain": [
       "0.9005145797598628"
      ]
     },
     "execution_count": 337,
     "metadata": {},
     "output_type": "execute_result"
    }
   ],
   "source": [
    "rf=RandomForestClassifier(n_estimators=100,random_state=0)\n",
    "# n_estimators indicates the number of trees in the forest\n",
    "rf.fit(x_train,y_train)\n",
    "y_pred=rf.predict(x_test)\n",
    "accuracy_score(y_test,y_pred)"
   ]
  },
  {
   "cell_type": "code",
   "execution_count": 340,
   "metadata": {},
   "outputs": [
    {
     "data": {
      "text/plain": [
       "0.1269296740994854"
      ]
     },
     "execution_count": 340,
     "metadata": {},
     "output_type": "execute_result"
    }
   ],
   "source": [
    "ab=AdaBoostClassifier(n_estimators=100)\n",
    "ab.fit(x_train,y_train)\n",
    "y_pred1=ab.predict(x_test)\n",
    "accuracy_score(y_test,y_pred1)"
   ]
  },
  {
   "cell_type": "code",
   "execution_count": 341,
   "metadata": {},
   "outputs": [
    {
     "data": {
      "text/plain": [
       "0.8902229845626072"
      ]
     },
     "execution_count": 341,
     "metadata": {},
     "output_type": "execute_result"
    }
   ],
   "source": [
    "gb=GradientBoostingClassifier(n_estimators=100)\n",
    "gb.fit(x_train,y_train)\n",
    "y_pred=gb.predict(x_test)\n",
    "accuracy_score(y_test,y_pred)"
   ]
  },
  {
   "cell_type": "code",
   "execution_count": 345,
   "metadata": {},
   "outputs": [
    {
     "data": {
      "text/plain": [
       "0.9159519725557461"
      ]
     },
     "execution_count": 345,
     "metadata": {},
     "output_type": "execute_result"
    }
   ],
   "source": [
    "xgb=XGBClassifier()\n",
    "xgb.fit(x_train,y_train)\n",
    "y_pred=xgb.predict(x_test)\n",
    "accuracy_score(y_test,y_pred)"
   ]
  },
  {
   "cell_type": "markdown",
   "metadata": {},
   "source": [
    "## Maximum accuracy is achieved by xgboost"
   ]
  },
  {
   "cell_type": "code",
   "execution_count": null,
   "metadata": {},
   "outputs": [],
   "source": []
  }
 ],
 "metadata": {
  "kernelspec": {
   "display_name": "Python 3",
   "language": "python",
   "name": "python3"
  },
  "language_info": {
   "codemirror_mode": {
    "name": "ipython",
    "version": 3
   },
   "file_extension": ".py",
   "mimetype": "text/x-python",
   "name": "python",
   "nbconvert_exporter": "python",
   "pygments_lexer": "ipython3",
   "version": "3.7.3"
  }
 },
 "nbformat": 4,
 "nbformat_minor": 2
}
